{
 "cells": [
  {
   "cell_type": "code",
   "execution_count": 2,
   "metadata": {},
   "outputs": [],
   "source": [
    "# conda create -n pytorch_practice python=3.10.12\n",
    "# conda activate pytorch_practice\n",
    "# conda install jupyter pandas numpy matplotlib scikit-learn tqdm pip"
   ]
  },
  {
   "cell_type": "code",
   "execution_count": 4,
   "metadata": {},
   "outputs": [
    {
     "name": "stdout",
     "output_type": "stream",
     "text": [
      "Python version: 3.10.12 (main, Jul  5 2023, 15:02:25) [Clang 14.0.6 ]\n",
      "PyTorch version: 2.0.1\n",
      "Is MPS (Metal Performance Shader) built? True\n",
      "Is MPS available? True\n",
      "Using device: mps\n"
     ]
    }
   ],
   "source": [
    "import torch\n",
    "import numpy as np\n",
    "import pandas as pd\n",
    "import sklearn\n",
    "import matplotlib.pyplot as plt\n",
    "import sys\n",
    "\n",
    "print(f\"Python version: {sys.version}\")\n",
    "print(f\"PyTorch version: {torch.__version__}\")\n",
    "\n",
    "# Check PyTorch has access to MPS (Metal Performance Shader, Apple's GPU architecture)\n",
    "print(f\"Is MPS (Metal Performance Shader) built? {torch.backends.mps.is_built()}\")\n",
    "print(f\"Is MPS available? {torch.backends.mps.is_available()}\")\n",
    "\n",
    "# Set the device      \n",
    "device = \"mps\" if torch.backends.mps.is_available() else \"cpu\"\n",
    "print(f\"Using device: {device}\")"
   ]
  },
  {
   "cell_type": "code",
   "execution_count": 7,
   "metadata": {},
   "outputs": [
    {
     "data": {
      "text/plain": [
       "tensor(7)"
      ]
     },
     "execution_count": 7,
     "metadata": {},
     "output_type": "execute_result"
    }
   ],
   "source": [
    "# Tensors\n",
    "\n",
    "# Create a tensor from a list\n",
    "\n",
    "# scalar\n",
    "scalar = torch.tensor(7)\n",
    "scalar"
   ]
  },
  {
   "cell_type": "code",
   "execution_count": 8,
   "metadata": {},
   "outputs": [
    {
     "data": {
      "text/plain": [
       "0"
      ]
     },
     "execution_count": 8,
     "metadata": {},
     "output_type": "execute_result"
    }
   ],
   "source": [
    "scalar.ndim"
   ]
  },
  {
   "cell_type": "code",
   "execution_count": 9,
   "metadata": {},
   "outputs": [
    {
     "data": {
      "text/plain": [
       "7"
      ]
     },
     "execution_count": 9,
     "metadata": {},
     "output_type": "execute_result"
    }
   ],
   "source": [
    "# tensor back as python int\n",
    "scalar.item()"
   ]
  },
  {
   "cell_type": "code",
   "execution_count": 10,
   "metadata": {},
   "outputs": [
    {
     "data": {
      "text/plain": [
       "tensor([1, 2, 3, 4])"
      ]
     },
     "execution_count": 10,
     "metadata": {},
     "output_type": "execute_result"
    }
   ],
   "source": [
    "vector = torch.tensor([1, 2, 3, 4])\n",
    "vector"
   ]
  },
  {
   "cell_type": "code",
   "execution_count": 11,
   "metadata": {},
   "outputs": [
    {
     "data": {
      "text/plain": [
       "1"
      ]
     },
     "execution_count": 11,
     "metadata": {},
     "output_type": "execute_result"
    }
   ],
   "source": [
    "vector.ndim"
   ]
  },
  {
   "cell_type": "code",
   "execution_count": 12,
   "metadata": {},
   "outputs": [
    {
     "data": {
      "text/plain": [
       "torch.Size([4])"
      ]
     },
     "execution_count": 12,
     "metadata": {},
     "output_type": "execute_result"
    }
   ],
   "source": [
    "vector.shape"
   ]
  },
  {
   "cell_type": "code",
   "execution_count": 14,
   "metadata": {},
   "outputs": [
    {
     "data": {
      "text/plain": [
       "tensor([[1, 2, 3],\n",
       "        [4, 5, 6]])"
      ]
     },
     "execution_count": 14,
     "metadata": {},
     "output_type": "execute_result"
    }
   ],
   "source": [
    "# MATRIX\n",
    "MATRIX = torch.tensor([[1, 2, 3],\n",
    "                          [4, 5, 6]])\n",
    "MATRIX"
   ]
  },
  {
   "cell_type": "code",
   "execution_count": 15,
   "metadata": {},
   "outputs": [
    {
     "data": {
      "text/plain": [
       "2"
      ]
     },
     "execution_count": 15,
     "metadata": {},
     "output_type": "execute_result"
    }
   ],
   "source": [
    "MATRIX.ndim"
   ]
  },
  {
   "cell_type": "code",
   "execution_count": 16,
   "metadata": {},
   "outputs": [
    {
     "data": {
      "text/plain": [
       "tensor([1, 2, 3])"
      ]
     },
     "execution_count": 16,
     "metadata": {},
     "output_type": "execute_result"
    }
   ],
   "source": [
    "MATRIX[0]"
   ]
  },
  {
   "cell_type": "code",
   "execution_count": 20,
   "metadata": {},
   "outputs": [
    {
     "data": {
      "text/plain": [
       "tensor(6)"
      ]
     },
     "execution_count": 20,
     "metadata": {},
     "output_type": "execute_result"
    }
   ],
   "source": [
    "MATRIX[1][2]"
   ]
  },
  {
   "cell_type": "code",
   "execution_count": 21,
   "metadata": {},
   "outputs": [
    {
     "data": {
      "text/plain": [
       "torch.Size([2, 3])"
      ]
     },
     "execution_count": 21,
     "metadata": {},
     "output_type": "execute_result"
    }
   ],
   "source": [
    "MATRIX.shape"
   ]
  },
  {
   "cell_type": "code",
   "execution_count": 43,
   "metadata": {},
   "outputs": [
    {
     "data": {
      "text/plain": [
       "tensor([[[[[ 1,  2,  3],\n",
       "           [ 4,  5,  6]]],\n",
       "\n",
       "\n",
       "         [[[ 7,  8,  9],\n",
       "           [10, 11, 12]]]],\n",
       "\n",
       "\n",
       "\n",
       "        [[[[ 1,  2,  3],\n",
       "           [ 4,  5,  6]]],\n",
       "\n",
       "\n",
       "         [[[ 7,  8,  9],\n",
       "           [10, 11, 12]]]]])"
      ]
     },
     "execution_count": 43,
     "metadata": {},
     "output_type": "execute_result"
    }
   ],
   "source": [
    "# # Tensor\n",
    "# TENSOR = torch.tensor([[[1, 2, 3],\n",
    "#                         [4, 5, 6],\n",
    "#                           [7, 8, 9],\n",
    "#                             [10, 11, 12]]])\n",
    "\n",
    "# # Tensor\n",
    "TENSOR = torch.tensor([[[[[1, 2, 3],\n",
    "                        [4, 5, 6]]],\n",
    "                          [[[7, 8, 9],\n",
    "                            [10, 11, 12]]]],\n",
    "                            [[[[1, 2, 3],\n",
    "                        [4, 5, 6]]],\n",
    "                          [[[7, 8, 9],\n",
    "                            [10, 11, 12]]]]])\n",
    "\n",
    "\n",
    "TENSOR"
   ]
  },
  {
   "cell_type": "code",
   "execution_count": 44,
   "metadata": {},
   "outputs": [
    {
     "data": {
      "text/plain": [
       "5"
      ]
     },
     "execution_count": 44,
     "metadata": {},
     "output_type": "execute_result"
    }
   ],
   "source": [
    "TENSOR.ndim"
   ]
  },
  {
   "cell_type": "code",
   "execution_count": 45,
   "metadata": {},
   "outputs": [
    {
     "data": {
      "text/plain": [
       "torch.Size([2, 2, 1, 2, 3])"
      ]
     },
     "execution_count": 45,
     "metadata": {},
     "output_type": "execute_result"
    }
   ],
   "source": [
    "TENSOR.shape"
   ]
  },
  {
   "cell_type": "code",
   "execution_count": 47,
   "metadata": {},
   "outputs": [],
   "source": [
    "# TENSOR[0]"
   ]
  },
  {
   "cell_type": "code",
   "execution_count": 51,
   "metadata": {},
   "outputs": [
    {
     "data": {
      "text/plain": [
       "tensor([[0.3255, 0.8612, 0.5153, 0.2217],\n",
       "        [0.9219, 0.9068, 0.4543, 0.5823],\n",
       "        [0.7787, 0.6248, 0.8373, 0.0350]])"
      ]
     },
     "execution_count": 51,
     "metadata": {},
     "output_type": "execute_result"
    }
   ],
   "source": [
    "# Random tensors\n",
    "# Why random tensors?\n",
    "# Random tensors are important because the way many neural networks are initialized is by generating a bunch of random tensors \n",
    "# and then updating those tensors based on the patterns found in the data.\n",
    "\n",
    "# Create a random tensor\n",
    "random_tensor = torch.rand(3,4)\n",
    "random_tensor"
   ]
  },
  {
   "cell_type": "code",
   "execution_count": 53,
   "metadata": {},
   "outputs": [
    {
     "data": {
      "text/plain": [
       "(torch.Size([3, 224, 224]), 3)"
      ]
     },
     "execution_count": 53,
     "metadata": {},
     "output_type": "execute_result"
    }
   ],
   "source": [
    "random_image_size_tensor = torch.rand(size=(3, 224, 224))\n",
    "random_image_size_tensor.shape, random_image_size_tensor.ndim"
   ]
  },
  {
   "cell_type": "code",
   "execution_count": 57,
   "metadata": {},
   "outputs": [
    {
     "data": {
      "text/plain": [
       "tensor([[0., 0., 0., 0.],\n",
       "        [0., 0., 0., 0.],\n",
       "        [0., 0., 0., 0.]])"
      ]
     },
     "execution_count": 57,
     "metadata": {},
     "output_type": "execute_result"
    }
   ],
   "source": [
    "# zeroes and ones tensors\n",
    "# Create a tensor of all zeros\n",
    "zeros = torch.zeros(3, 4)\n",
    "zeros"
   ]
  },
  {
   "cell_type": "code",
   "execution_count": 58,
   "metadata": {},
   "outputs": [
    {
     "data": {
      "text/plain": [
       "tensor([[0., 0., 0., 0.],\n",
       "        [0., 0., 0., 0.],\n",
       "        [0., 0., 0., 0.]])"
      ]
     },
     "execution_count": 58,
     "metadata": {},
     "output_type": "execute_result"
    }
   ],
   "source": [
    "zeros*random_tensor"
   ]
  },
  {
   "cell_type": "code",
   "execution_count": 59,
   "metadata": {},
   "outputs": [],
   "source": [
    "# Create a tensor of all ones\n",
    "ones = torch.ones(3, 4)"
   ]
  },
  {
   "cell_type": "code",
   "execution_count": 60,
   "metadata": {},
   "outputs": [
    {
     "data": {
      "text/plain": [
       "tensor([[0.3255, 0.8612, 0.5153, 0.2217],\n",
       "        [0.9219, 0.9068, 0.4543, 0.5823],\n",
       "        [0.7787, 0.6248, 0.8373, 0.0350]])"
      ]
     },
     "execution_count": 60,
     "metadata": {},
     "output_type": "execute_result"
    }
   ],
   "source": [
    "ones*random_tensor"
   ]
  },
  {
   "cell_type": "code",
   "execution_count": 61,
   "metadata": {},
   "outputs": [
    {
     "data": {
      "text/plain": [
       "torch.float32"
      ]
     },
     "execution_count": 61,
     "metadata": {},
     "output_type": "execute_result"
    }
   ],
   "source": [
    "ones.dtype"
   ]
  },
  {
   "cell_type": "code",
   "execution_count": 62,
   "metadata": {},
   "outputs": [
    {
     "data": {
      "text/plain": [
       "torch.float32"
      ]
     },
     "execution_count": 62,
     "metadata": {},
     "output_type": "execute_result"
    }
   ],
   "source": [
    "random_tensor.dtype"
   ]
  },
  {
   "cell_type": "code",
   "execution_count": 68,
   "metadata": {},
   "outputs": [
    {
     "data": {
      "text/plain": [
       "tensor([0, 3, 6, 9])"
      ]
     },
     "execution_count": 68,
     "metadata": {},
     "output_type": "execute_result"
    }
   ],
   "source": [
    "# Create a range of tensors and tensors-like\n",
    "tensor_range = torch.arange(start=0, end=10, step=3)\n",
    "tensor_range"
   ]
  },
  {
   "cell_type": "code",
   "execution_count": 73,
   "metadata": {},
   "outputs": [
    {
     "data": {
      "text/plain": [
       "tensor([0, 0, 0, 0])"
      ]
     },
     "execution_count": 73,
     "metadata": {},
     "output_type": "execute_result"
    }
   ],
   "source": [
    "# Creating tensors like\n",
    "tensor_range2 = torch.zeros_like(input=tensor_range)\n",
    "# torch.ones_like(input=tensor_range)\n",
    "# torch.rand_like(input=tensor_range, dtype=torch.float32)\n",
    "\n",
    "tensor_range2"
   ]
  },
  {
   "cell_type": "markdown",
   "metadata": {},
   "source": [
    "# Tensor datatypes\n",
    "\n",
    "Note: tensor datatypes is one of the 3 big errors you'll run into with Pytorch & deep learning\n",
    "1. tensors not right data type\n",
    "2. tensors not right shape\n",
    "3. tensors not right device"
   ]
  },
  {
   "cell_type": "code",
   "execution_count": 82,
   "metadata": {},
   "outputs": [
    {
     "data": {
      "text/plain": [
       "tensor([1, 2, 3], device='mps:0')"
      ]
     },
     "execution_count": 82,
     "metadata": {},
     "output_type": "execute_result"
    }
   ],
   "source": [
    "# Tensor datatypes\n",
    "float_16_tensor = torch.tensor([1, 2, 3],\n",
    "                               dtype=None, # what datatype is the tensor\n",
    "                               device=\"mps\", # where to store the tensor (CPU or GPU)\n",
    "                               requires_grad=False) # whether or not to track gradient operations of these tensors\n",
    "\n",
    "float_16_tensor"
   ]
  },
  {
   "cell_type": "code",
   "execution_count": 84,
   "metadata": {},
   "outputs": [],
   "source": [
    "float_32_tensor = float_16_tensor.to(dtype=torch.float32)"
   ]
  },
  {
   "cell_type": "code",
   "execution_count": 85,
   "metadata": {},
   "outputs": [
    {
     "data": {
      "text/plain": [
       "torch.float32"
      ]
     },
     "execution_count": 85,
     "metadata": {},
     "output_type": "execute_result"
    }
   ],
   "source": [
    "float_32_tensor.dtype"
   ]
  },
  {
   "cell_type": "code",
   "execution_count": 86,
   "metadata": {},
   "outputs": [
    {
     "data": {
      "text/plain": [
       "tensor([1., 4., 9.], device='mps:0')"
      ]
     },
     "execution_count": 86,
     "metadata": {},
     "output_type": "execute_result"
    }
   ],
   "source": [
    "float_32_tensor*float_16_tensor"
   ]
  },
  {
   "cell_type": "code",
   "execution_count": 96,
   "metadata": {},
   "outputs": [
    {
     "data": {
      "text/plain": [
       "tensor([1, 2, 3])"
      ]
     },
     "execution_count": 96,
     "metadata": {},
     "output_type": "execute_result"
    }
   ],
   "source": [
    "int32_tensor = torch.tensor([1, 2, 3], dtype=torch.long)\n",
    "int32_tensor"
   ]
  },
  {
   "cell_type": "code",
   "execution_count": 92,
   "metadata": {},
   "outputs": [
    {
     "ename": "RuntimeError",
     "evalue": "Expected all tensors to be on the same device, but found at least two devices, mps:0 and cpu!",
     "output_type": "error",
     "traceback": [
      "\u001b[0;31m---------------------------------------------------------------------------\u001b[0m",
      "\u001b[0;31mRuntimeError\u001b[0m                              Traceback (most recent call last)",
      "Cell \u001b[0;32mIn[92], line 1\u001b[0m\n\u001b[0;32m----> 1\u001b[0m float_32_tensor\u001b[39m*\u001b[39;49mint32_tensor\n",
      "\u001b[0;31mRuntimeError\u001b[0m: Expected all tensors to be on the same device, but found at least two devices, mps:0 and cpu!"
     ]
    }
   ],
   "source": [
    "float_32_tensor*int32_tensor"
   ]
  },
  {
   "cell_type": "markdown",
   "metadata": {},
   "source": [
    "### getting information from tensors\n",
    "\n",
    "1. To get datatype, use \"tensor.dtype\"\n",
    "2. To get shape, use \"tensor.shape\"\n",
    "3. To get dimension, use \"tensor.ndim\"\n",
    "4. To get device, use \"tensor.device\""
   ]
  },
  {
   "cell_type": "code",
   "execution_count": 100,
   "metadata": {},
   "outputs": [
    {
     "data": {
      "text/plain": [
       "torch.float32"
      ]
     },
     "execution_count": 100,
     "metadata": {},
     "output_type": "execute_result"
    }
   ],
   "source": [
    "random_tensor = torch.rand(3, 4)\n",
    "random_tensor.dtype"
   ]
  },
  {
   "cell_type": "code",
   "execution_count": 101,
   "metadata": {},
   "outputs": [
    {
     "data": {
      "text/plain": [
       "(torch.Size([3, 4]), torch.Size([3, 4]))"
      ]
     },
     "execution_count": 101,
     "metadata": {},
     "output_type": "execute_result"
    }
   ],
   "source": [
    "random_tensor.shape, random_tensor.size()"
   ]
  },
  {
   "cell_type": "markdown",
   "metadata": {},
   "source": [
    "### Manipulating tensors (tensor operations)\n",
    "\n",
    "Tensor operations include:\n",
    "- addition\n",
    "- subtraction\n",
    "- multiplication (element-wise)\n",
    "- division\n",
    "- matric multiplication"
   ]
  },
  {
   "cell_type": "code",
   "execution_count": 115,
   "metadata": {},
   "outputs": [
    {
     "data": {
      "text/plain": [
       "tensor([0.1000, 0.2000, 0.3000])"
      ]
     },
     "execution_count": 115,
     "metadata": {},
     "output_type": "execute_result"
    }
   ],
   "source": [
    "tensor = torch.tensor([1, 2, 3])\n",
    "# tensor + 10\n",
    "# tensor * 10\n",
    "# tensor - 10\n",
    "# tensor / 10\n",
    "# torch.add(tensor, 10)\n",
    "# torch.mul(tensor, 10)\n",
    "# torch.sub(tensor, 10)\n",
    "torch.div(tensor, 10)"
   ]
  },
  {
   "cell_type": "markdown",
   "metadata": {},
   "source": [
    "### Matrix multiplication\n",
    "\n",
    "2 main ways of multiplication in NN and Deep Learning\n",
    "\n",
    "1. element wise multiplication\n",
    "2. matrix multiplication (dot product)\n",
    "\n",
    "2 main rules that matrix multipliction needs to satisfy\n",
    "1. The **inner dimensions** must match:\n",
    "* `(3,2) @ (2,6)`\n",
    "\n",
    "2. The resulting matrix has the shape of the outer dimensions."
   ]
  },
  {
   "cell_type": "code",
   "execution_count": 118,
   "metadata": {},
   "outputs": [
    {
     "name": "stdout",
     "output_type": "stream",
     "text": [
      "tensor([1, 2, 3]) * tensor([1, 2, 3])\n",
      "Equals: tensor([1, 4, 9])\n"
     ]
    }
   ],
   "source": [
    "print(tensor, \"*\", tensor)\n",
    "print(f\"Equals: {torch.mul(tensor, tensor)}\")"
   ]
  },
  {
   "cell_type": "code",
   "execution_count": 119,
   "metadata": {},
   "outputs": [
    {
     "data": {
      "text/plain": [
       "tensor(14)"
      ]
     },
     "execution_count": 119,
     "metadata": {},
     "output_type": "execute_result"
    }
   ],
   "source": [
    "torch.matmul(tensor, tensor)"
   ]
  },
  {
   "cell_type": "code",
   "execution_count": 122,
   "metadata": {},
   "outputs": [
    {
     "name": "stdout",
     "output_type": "stream",
     "text": [
      "Equals: 14\n",
      "CPU times: user 860 µs, sys: 1.54 ms, total: 2.4 ms\n",
      "Wall time: 1.93 ms\n"
     ]
    }
   ],
   "source": [
    "%%time\n",
    "\n",
    "value=0\n",
    "for i in range(len(tensor)):\n",
    "    value += tensor[i]*tensor[i]\n",
    "print(f\"Equals: {value}\")"
   ]
  },
  {
   "cell_type": "code",
   "execution_count": 124,
   "metadata": {},
   "outputs": [
    {
     "name": "stdout",
     "output_type": "stream",
     "text": [
      "CPU times: user 206 µs, sys: 41 µs, total: 247 µs\n",
      "Wall time: 208 µs\n"
     ]
    },
    {
     "data": {
      "text/plain": [
       "tensor(14)"
      ]
     },
     "execution_count": 124,
     "metadata": {},
     "output_type": "execute_result"
    }
   ],
   "source": [
    "%%time\n",
    "\n",
    "torch.matmul(tensor, tensor)"
   ]
  },
  {
   "cell_type": "code",
   "execution_count": 133,
   "metadata": {},
   "outputs": [],
   "source": [
    "### One of the most common errors in deep learning is shape errors\n",
    "\n",
    "# Shapes for matrix multiplication\n",
    "tensor_A = torch.tensor([[1, 2],\n",
    "                          [3, 4],\n",
    "                          [5, 6]])\n",
    "\n",
    "tensor_B = torch.tensor([[7, 10],\n",
    "                          [8, 11],\n",
    "                          [9, 12]])"
   ]
  },
  {
   "cell_type": "code",
   "execution_count": 134,
   "metadata": {},
   "outputs": [
    {
     "ename": "RuntimeError",
     "evalue": "mat1 and mat2 shapes cannot be multiplied (3x2 and 3x2)",
     "output_type": "error",
     "traceback": [
      "\u001b[0;31m---------------------------------------------------------------------------\u001b[0m",
      "\u001b[0;31mRuntimeError\u001b[0m                              Traceback (most recent call last)",
      "Cell \u001b[0;32mIn[134], line 3\u001b[0m\n\u001b[1;32m      1\u001b[0m \u001b[39m# torch.mm is the same as torch.matmul\u001b[39;00m\n\u001b[0;32m----> 3\u001b[0m torch\u001b[39m.\u001b[39;49mmm(tensor_A, tensor_B)\n",
      "\u001b[0;31mRuntimeError\u001b[0m: mat1 and mat2 shapes cannot be multiplied (3x2 and 3x2)"
     ]
    }
   ],
   "source": [
    "# torch.mm is the same as torch.matmul\n",
    "\n",
    "torch.mm(tensor_A, tensor_B)"
   ]
  },
  {
   "cell_type": "code",
   "execution_count": 135,
   "metadata": {},
   "outputs": [
    {
     "data": {
      "text/plain": [
       "(torch.Size([3, 2]), torch.Size([3, 2]))"
      ]
     },
     "execution_count": 135,
     "metadata": {},
     "output_type": "execute_result"
    }
   ],
   "source": [
    "tensor_A.shape, tensor_B.shape"
   ]
  },
  {
   "cell_type": "markdown",
   "metadata": {},
   "source": [
    "To fix our tensor shape issues, we can manipulate the shape using a **transpose**\n",
    "\n",
    "A transpose switched the axis or dimensions of a given tensor"
   ]
  },
  {
   "cell_type": "code",
   "execution_count": 139,
   "metadata": {},
   "outputs": [
    {
     "data": {
      "text/plain": [
       "(tensor([[ 7, 10],\n",
       "         [ 8, 11],\n",
       "         [ 9, 12]]),\n",
       " torch.Size([3, 2]))"
      ]
     },
     "execution_count": 139,
     "metadata": {},
     "output_type": "execute_result"
    }
   ],
   "source": [
    "tensor_B, tensor_B.shape"
   ]
  },
  {
   "cell_type": "code",
   "execution_count": 140,
   "metadata": {},
   "outputs": [
    {
     "data": {
      "text/plain": [
       "(tensor([[ 7,  8,  9],\n",
       "         [10, 11, 12]]),\n",
       " torch.Size([2, 3]))"
      ]
     },
     "execution_count": 140,
     "metadata": {},
     "output_type": "execute_result"
    }
   ],
   "source": [
    "tensor_B.T, tensor_B.T.shape"
   ]
  },
  {
   "cell_type": "code",
   "execution_count": 141,
   "metadata": {},
   "outputs": [
    {
     "data": {
      "text/plain": [
       "tensor([[ 27,  30,  33],\n",
       "        [ 61,  68,  75],\n",
       "        [ 95, 106, 117]])"
      ]
     },
     "execution_count": 141,
     "metadata": {},
     "output_type": "execute_result"
    }
   ],
   "source": [
    "# The matrix multiplication works when tensor_B is transposed\n",
    "torch.mm(tensor_A, tensor_B.T)"
   ]
  },
  {
   "cell_type": "markdown",
   "metadata": {},
   "source": [
    "Finding the min max mean sum etc"
   ]
  },
  {
   "cell_type": "code",
   "execution_count": 147,
   "metadata": {},
   "outputs": [
    {
     "data": {
      "text/plain": [
       "(tensor([ 0, 10, 20, 30, 40, 50, 60, 70, 80, 90]), torch.int64)"
      ]
     },
     "execution_count": 147,
     "metadata": {},
     "output_type": "execute_result"
    }
   ],
   "source": [
    "# create a tensor\n",
    "x = torch.arange(0, 100, 10)\n",
    "x, x.dtype"
   ]
  },
  {
   "cell_type": "code",
   "execution_count": 143,
   "metadata": {},
   "outputs": [
    {
     "data": {
      "text/plain": [
       "tensor(0)"
      ]
     },
     "execution_count": 143,
     "metadata": {},
     "output_type": "execute_result"
    }
   ],
   "source": [
    "# find the min\n",
    "torch.argmin(x), x.min()\n",
    "# torch.argmax(x), x.max()"
   ]
  },
  {
   "cell_type": "code",
   "execution_count": 148,
   "metadata": {},
   "outputs": [
    {
     "data": {
      "text/plain": [
       "(tensor(45.), tensor(45.))"
      ]
     },
     "execution_count": 148,
     "metadata": {},
     "output_type": "execute_result"
    }
   ],
   "source": [
    "# torch.mean() requires the input tensor to be float32\n",
    "torch.mean(x.type(torch.float32)), x.type(torch.float32).mean()"
   ]
  },
  {
   "cell_type": "code",
   "execution_count": 149,
   "metadata": {},
   "outputs": [
    {
     "data": {
      "text/plain": [
       "(tensor(450), tensor(450))"
      ]
     },
     "execution_count": 149,
     "metadata": {},
     "output_type": "execute_result"
    }
   ],
   "source": [
    "# find the sum\n",
    "torch.sum(x), x.sum()"
   ]
  },
  {
   "cell_type": "code",
   "execution_count": 151,
   "metadata": {},
   "outputs": [
    {
     "data": {
      "text/plain": [
       "(tensor(0), tensor(9))"
      ]
     },
     "execution_count": 151,
     "metadata": {},
     "output_type": "execute_result"
    }
   ],
   "source": [
    "x.argmin(), x.argmax()"
   ]
  },
  {
   "cell_type": "markdown",
   "metadata": {},
   "source": [
    "### Reshaping, stacking, squeezing & unsqueezing tensors\n",
    "\n",
    "- Reshaping - reshapes an input tensor to a defined shape\n",
    "- View - return a view of an input tensor of a certain shape but keep the same memory as the original tensor\n",
    "- Stacking - combining multiple tensors on top of each other (vstack) or side by side (hstack)\n",
    "- Squueze - removes all '1' dimensions from a tensor\n",
    "- Unsquueze - add a '1' dimensions to a target tensor"
   ]
  },
  {
   "cell_type": "code",
   "execution_count": 167,
   "metadata": {},
   "outputs": [
    {
     "data": {
      "text/plain": [
       "(tensor([1., 2., 3., 4., 5., 6., 7., 8., 9.]), torch.Size([9]))"
      ]
     },
     "execution_count": 167,
     "metadata": {},
     "output_type": "execute_result"
    }
   ],
   "source": [
    "import torch\n",
    "x = torch.arange(1., 10.)\n",
    "x, x.shape"
   ]
  },
  {
   "cell_type": "code",
   "execution_count": 169,
   "metadata": {},
   "outputs": [
    {
     "data": {
      "text/plain": [
       "(tensor([[1., 2., 3., 4., 5., 6., 7., 8., 9.]]), torch.Size([1, 9]))"
      ]
     },
     "execution_count": 169,
     "metadata": {},
     "output_type": "execute_result"
    }
   ],
   "source": [
    "# Add an extra dimension\n",
    "x_reshaped = x.reshape(1, 9)\n",
    "x_reshaped, x_reshaped.shape"
   ]
  },
  {
   "cell_type": "code",
   "execution_count": 163,
   "metadata": {},
   "outputs": [
    {
     "data": {
      "text/plain": [
       "(tensor([[1.],\n",
       "         [2.],\n",
       "         [3.],\n",
       "         [4.],\n",
       "         [5.],\n",
       "         [6.],\n",
       "         [7.],\n",
       "         [8.],\n",
       "         [9.]]),\n",
       " torch.Size([9, 1]))"
      ]
     },
     "execution_count": 163,
     "metadata": {},
     "output_type": "execute_result"
    }
   ],
   "source": [
    "x_reshaped = x.reshape(9, 1)\n",
    "x_reshaped, x_reshaped.shape"
   ]
  },
  {
   "cell_type": "code",
   "execution_count": 170,
   "metadata": {},
   "outputs": [
    {
     "data": {
      "text/plain": [
       "(tensor([[1., 2., 3., 4., 5., 6., 7., 8., 9.]]), torch.Size([9]))"
      ]
     },
     "execution_count": 170,
     "metadata": {},
     "output_type": "execute_result"
    }
   ],
   "source": [
    "# Change the view\n",
    "z = x.view(1,9)\n",
    "z, x.shape"
   ]
  },
  {
   "cell_type": "code",
   "execution_count": 171,
   "metadata": {},
   "outputs": [
    {
     "data": {
      "text/plain": [
       "(tensor([[5., 2., 3., 4., 5., 6., 7., 8., 9.]]),\n",
       " tensor([5., 2., 3., 4., 5., 6., 7., 8., 9.]))"
      ]
     },
     "execution_count": 171,
     "metadata": {},
     "output_type": "execute_result"
    }
   ],
   "source": [
    "# Changing z changes x because a view shares the same memory as the original tensor\n",
    "z[:, 0] = 5\n",
    "z, x"
   ]
  },
  {
   "cell_type": "code",
   "execution_count": 181,
   "metadata": {},
   "outputs": [
    {
     "data": {
      "text/plain": [
       "(tensor([[5., 5., 5.],\n",
       "         [2., 2., 2.],\n",
       "         [3., 3., 3.],\n",
       "         [4., 4., 4.],\n",
       "         [5., 5., 5.],\n",
       "         [6., 6., 6.],\n",
       "         [7., 7., 7.],\n",
       "         [8., 8., 8.],\n",
       "         [9., 9., 9.]]),\n",
       " torch.Size([9, 3]))"
      ]
     },
     "execution_count": 181,
     "metadata": {},
     "output_type": "execute_result"
    }
   ],
   "source": [
    "# Stack tensors on top\n",
    "x_stacked = torch.stack([x, x, x], dim=1)\n",
    "x_stacked, x_stacked.shape"
   ]
  },
  {
   "cell_type": "code",
   "execution_count": 186,
   "metadata": {},
   "outputs": [
    {
     "name": "stdout",
     "output_type": "stream",
     "text": [
      "Previous tensor: tensor([[5., 2., 3., 4., 5., 6., 7., 8., 9.]])\n",
      "Previous tensor shape: torch.Size([1, 9])\n",
      "New Squeezed tensor: tensor([5., 2., 3., 4., 5., 6., 7., 8., 9.])\n",
      "New Squeezed tensor shape: torch.Size([9])\n"
     ]
    }
   ],
   "source": [
    "# squeeze a tensor - removes all single dimensions from a targret tensor\n",
    "print(f\"Previous tensor: {x_reshaped}\")\n",
    "print(f\"Previous tensor shape: {x_reshaped.shape}\")\n",
    "\n",
    "# Remove extra dimensions from x_reshaped\n",
    "x_sqeezed = x_reshaped.squeeze()\n",
    "print(f\"New Squeezed tensor: {x_sqeezed}\")\n",
    "print(f\"New Squeezed tensor shape: {x_sqeezed.shape}\")\n"
   ]
  },
  {
   "cell_type": "code",
   "execution_count": 193,
   "metadata": {},
   "outputs": [
    {
     "name": "stdout",
     "output_type": "stream",
     "text": [
      "Previous target: tensor([5., 2., 3., 4., 5., 6., 7., 8., 9.])\n",
      "Previous target shape: torch.Size([9])\n",
      "New unsqueezed tensor: tensor([[5., 2., 3., 4., 5., 6., 7., 8., 9.]])\n",
      "New unsqueezed tensor shape: torch.Size([1, 9])\n"
     ]
    }
   ],
   "source": [
    "# add a dimension of 1 to a tensor's shape\n",
    "# torch.unsqueeze()\n",
    "\n",
    "print(f\"Previous target: {x_sqeezed}\")\n",
    "print(f\"Previous target shape: {x_sqeezed.shape}\")\n",
    "\n",
    "# Add an extra dimension with unsqueeze\n",
    "x_unsqeezed = x_sqeezed.unsqueeze(dim=0)\n",
    "print(f\"New unsqueezed tensor: {x_unsqeezed}\")\n",
    "print(f\"New unsqueezed tensor shape: {x_unsqeezed.shape}\")"
   ]
  },
  {
   "cell_type": "code",
   "execution_count": 197,
   "metadata": {},
   "outputs": [
    {
     "name": "stdout",
     "output_type": "stream",
     "text": [
      "Previous shape: torch.Size([224, 224, 3])\n",
      "New shape: torch.Size([3, 224, 224])\n"
     ]
    }
   ],
   "source": [
    "# Torch.permute() - rearranges the dimensions of a tensor\n",
    "x_original = torch.rand(size=(224, 224, 3)) #[height, width, colour_chanels]\n",
    "\n",
    "# Permute the original tensor to rearrange the axis ( or dim) order\n",
    "x_permuted = x_original.permute(2, 0, 1) #[colour_chanels, height, width]\n",
    "\n",
    "print(f\"Previous shape: {x_original.shape}\")\n",
    "print(f\"New shape: {x_permuted.shape}\")"
   ]
  },
  {
   "cell_type": "code",
   "execution_count": 199,
   "metadata": {},
   "outputs": [
    {
     "data": {
      "text/plain": [
       "(tensor(73982.), tensor(73982.))"
      ]
     },
     "execution_count": 199,
     "metadata": {},
     "output_type": "execute_result"
    }
   ],
   "source": [
    "x_original[0, 0, 0] = 73982\n",
    "x_original[0, 0, 0], x_permuted[0, 0, 0]"
   ]
  },
  {
   "cell_type": "markdown",
   "metadata": {},
   "source": [
    "### Indexing (selecting data from tensors)\n",
    "\n",
    "Indexsing with PTorch is similar to indexing with NumPy"
   ]
  },
  {
   "cell_type": "code",
   "execution_count": 203,
   "metadata": {},
   "outputs": [
    {
     "data": {
      "text/plain": [
       "(tensor([[[1, 2, 3],\n",
       "          [4, 5, 6],\n",
       "          [7, 8, 9]]]),\n",
       " torch.Size([1, 3, 3]))"
      ]
     },
     "execution_count": 203,
     "metadata": {},
     "output_type": "execute_result"
    }
   ],
   "source": [
    "# Create a tenssor\n",
    "import torch\n",
    "x = torch.arange(1, 10).reshape(1,3,3)\n",
    "x, x.shape"
   ]
  },
  {
   "cell_type": "code",
   "execution_count": 204,
   "metadata": {},
   "outputs": [
    {
     "data": {
      "text/plain": [
       "tensor([[1, 2, 3],\n",
       "        [4, 5, 6],\n",
       "        [7, 8, 9]])"
      ]
     },
     "execution_count": 204,
     "metadata": {},
     "output_type": "execute_result"
    }
   ],
   "source": [
    "#Let's index on our tensor\n",
    "x[0]"
   ]
  },
  {
   "cell_type": "code",
   "execution_count": 205,
   "metadata": {},
   "outputs": [
    {
     "data": {
      "text/plain": [
       "tensor([1, 2, 3])"
      ]
     },
     "execution_count": 205,
     "metadata": {},
     "output_type": "execute_result"
    }
   ],
   "source": [
    "# Let's index on the middle bracket (dim=1)\n",
    "x[0][0]"
   ]
  },
  {
   "cell_type": "code",
   "execution_count": 212,
   "metadata": {},
   "outputs": [
    {
     "data": {
      "text/plain": [
       "tensor(9)"
      ]
     },
     "execution_count": 212,
     "metadata": {},
     "output_type": "execute_result"
    }
   ],
   "source": [
    "# Let's index on the most inner bracket (last dimension)\n",
    "x[0][2][2]"
   ]
  },
  {
   "cell_type": "code",
   "execution_count": 213,
   "metadata": {},
   "outputs": [
    {
     "data": {
      "text/plain": [
       "tensor([[1, 2, 3]])"
      ]
     },
     "execution_count": 213,
     "metadata": {},
     "output_type": "execute_result"
    }
   ],
   "source": [
    "# You can also use \":\" to select all items of a target dimensio\n",
    "x[:,0]"
   ]
  },
  {
   "cell_type": "code",
   "execution_count": 223,
   "metadata": {},
   "outputs": [
    {
     "data": {
      "text/plain": [
       "tensor([[3, 6, 9]])"
      ]
     },
     "execution_count": 223,
     "metadata": {},
     "output_type": "execute_result"
    }
   ],
   "source": [
    "# Get all values of the 0th & 1st dimensions but only index 1 of 2nd dimension\n",
    "x[:, :, 2]\n",
    "# x[0, 2, :]"
   ]
  },
  {
   "cell_type": "code",
   "execution_count": 229,
   "metadata": {},
   "outputs": [
    {
     "data": {
      "text/plain": [
       "(tensor([5]), tensor(5))"
      ]
     },
     "execution_count": 229,
     "metadata": {},
     "output_type": "execute_result"
    }
   ],
   "source": [
    "# Get all values of the 0th dimension but only the 1 index value of 1st and 2nd dimensions\n",
    "x[:, 1, 1], x[0, 1, 1]"
   ]
  },
  {
   "cell_type": "code",
   "execution_count": 230,
   "metadata": {},
   "outputs": [
    {
     "data": {
      "text/plain": [
       "tensor([1, 2, 3])"
      ]
     },
     "execution_count": 230,
     "metadata": {},
     "output_type": "execute_result"
    }
   ],
   "source": [
    "# Get index 0 of 0th and 1st dimension and all values of 2nd dimension\n",
    "x[0, 0, :]\n",
    "# same as x[:,0]"
   ]
  },
  {
   "cell_type": "code",
   "execution_count": 232,
   "metadata": {},
   "outputs": [
    {
     "data": {
      "text/plain": [
       "tensor([3, 6, 9])"
      ]
     },
     "execution_count": 232,
     "metadata": {},
     "output_type": "execute_result"
    }
   ],
   "source": [
    "# Index on x to return 9\n",
    "x[0, 2, 2]\n",
    "\n",
    "# Index on x to return 3, 6, 9\n",
    "x[0, :, 2]"
   ]
  },
  {
   "cell_type": "markdown",
   "metadata": {},
   "source": [
    "# Pytorch tensors & NumPy\n",
    "\n",
    "NumPy is a popular scientific computing library.\n",
    "And because of this, Pytorch has functionality to interact with it\n",
    "\n",
    "* Data in NumPy, want in PyTorch tensor -> 'torch.from_numpy(ndarray)'\n",
    "* PyTorch tensor -> NumPy -> torch.numpy()\n"
   ]
  },
  {
   "cell_type": "code",
   "execution_count": 242,
   "metadata": {},
   "outputs": [
    {
     "data": {
      "text/plain": [
       "(array([1., 2., 3., 4., 5., 6., 7.]), tensor([1., 2., 3., 4., 5., 6., 7.]))"
      ]
     },
     "execution_count": 242,
     "metadata": {},
     "output_type": "execute_result"
    }
   ],
   "source": [
    "# Numpy array to tensor\n",
    "import torch\n",
    "import numpy as np\n",
    "\n",
    "array = np.arange(1, 8.0)\n",
    "# tensor = torch.from_numpy(array) \n",
    "# warning: when converting from numpy to pytorch, pytorch reflects numpys default dtype of float64 unless specified\n",
    "tensor = torch.from_numpy(array).type(torch.float32)\n",
    "array, tensor"
   ]
  },
  {
   "cell_type": "code",
   "execution_count": 243,
   "metadata": {},
   "outputs": [
    {
     "data": {
      "text/plain": [
       "(dtype('float64'), torch.float32)"
      ]
     },
     "execution_count": 243,
     "metadata": {},
     "output_type": "execute_result"
    }
   ],
   "source": [
    "array.dtype, tensor.dtype"
   ]
  },
  {
   "cell_type": "code",
   "execution_count": 244,
   "metadata": {},
   "outputs": [
    {
     "data": {
      "text/plain": [
       "torch.float32"
      ]
     },
     "execution_count": 244,
     "metadata": {},
     "output_type": "execute_result"
    }
   ],
   "source": [
    "# View the default dtype of a tensor\n",
    "torch.arange(1,8.0).dtype"
   ]
  },
  {
   "cell_type": "code",
   "execution_count": 245,
   "metadata": {},
   "outputs": [
    {
     "data": {
      "text/plain": [
       "(array([2., 3., 4., 5., 6., 7., 8.]), tensor([1., 2., 3., 4., 5., 6., 7.]))"
      ]
     },
     "execution_count": 245,
     "metadata": {},
     "output_type": "execute_result"
    }
   ],
   "source": [
    "# Change the value of array, what will this do to a tensor?\n",
    "array = array + 1\n",
    "array, tensor\n",
    "# Nothing changes in the tensor\n",
    "# The tensor is created in new memory\n"
   ]
  },
  {
   "cell_type": "code",
   "execution_count": 246,
   "metadata": {},
   "outputs": [
    {
     "data": {
      "text/plain": [
       "(tensor([1., 1., 1., 1., 1., 1., 1.]),\n",
       " array([1., 1., 1., 1., 1., 1., 1.], dtype=float32))"
      ]
     },
     "execution_count": 246,
     "metadata": {},
     "output_type": "execute_result"
    }
   ],
   "source": [
    "# Tensor to numpy array\n",
    "tensor = torch.ones(7)\n",
    "numpy_array = tensor.numpy()\n",
    "tensor, numpy_array"
   ]
  },
  {
   "cell_type": "code",
   "execution_count": 247,
   "metadata": {},
   "outputs": [
    {
     "data": {
      "text/plain": [
       "(dtype('float32'), torch.float32)"
      ]
     },
     "execution_count": 247,
     "metadata": {},
     "output_type": "execute_result"
    }
   ],
   "source": [
    "numpy_array.dtype, tensor.dtype\n",
    "# Keep in mind default of numpy is float64 and pytorch is float32"
   ]
  },
  {
   "cell_type": "code",
   "execution_count": 248,
   "metadata": {},
   "outputs": [
    {
     "data": {
      "text/plain": [
       "(tensor([2., 2., 2., 2., 2., 2., 2.]),\n",
       " array([1., 1., 1., 1., 1., 1., 1.], dtype=float32))"
      ]
     },
     "execution_count": 248,
     "metadata": {},
     "output_type": "execute_result"
    }
   ],
   "source": [
    "# Change the tensor\n",
    "tensor = tensor + 1\n",
    "tensor, numpy_array\n",
    "# The numpy array does not share memory with the tensor"
   ]
  },
  {
   "cell_type": "markdown",
   "metadata": {},
   "source": [
    "## Reporoducability - taking the random out of random\n",
    "\n",
    "In short, how a NN learns:\n",
    "\n",
    "`start with random numbers -> tensor operations -> update rand # -> again -> again..`\n",
    "\n",
    "To reduce randomness in neural networks & pytorch comes the concept of **random seed**.\n",
    "\n",
    "Essentially what the random seed is 'flavour' the randomness.\n",
    "\n",
    "Extra resources: https://pytorch.org/docs/stable/notes/randomness.html"
   ]
  },
  {
   "cell_type": "code",
   "execution_count": 264,
   "metadata": {},
   "outputs": [
    {
     "name": "stdout",
     "output_type": "stream",
     "text": [
      "First random tensor: \n",
      "tensor([[0.7295, 0.8845, 0.7995, 0.3273],\n",
      "        [0.0654, 0.4392, 0.9857, 0.3740],\n",
      "        [0.9514, 0.4427, 0.8519, 0.7036]])\n",
      "Second random tensor: \n",
      "tensor([[0.8035, 0.6494, 0.4401, 0.7423],\n",
      "        [0.3843, 0.4088, 0.8408, 0.7236],\n",
      "        [0.9272, 0.8986, 0.4642, 0.9059]])\n",
      "\n",
      "tensor([[False, False, False, False],\n",
      "        [False, False, False, False],\n",
      "        [False, False, False, False]])\n"
     ]
    }
   ],
   "source": [
    "import torch\n",
    "\n",
    "# Create two random tensors\n",
    "torch.rand(3,3)\n",
    "random_tensor_A = torch.rand(3,4)\n",
    "random_tensor_B = torch.rand(3,4)\n",
    "\n",
    "print(f\"First random tensor: \\n{random_tensor_A}\")\n",
    "print(f\"Second random tensor: \\n{random_tensor_B}\\n\")\n",
    "print(random_tensor_A == random_tensor_B)"
   ]
  },
  {
   "cell_type": "code",
   "execution_count": 269,
   "metadata": {},
   "outputs": [
    {
     "name": "stdout",
     "output_type": "stream",
     "text": [
      "First random tensor: \n",
      "tensor([[0.2919, 0.2857, 0.4021, 0.4645],\n",
      "        [0.9503, 0.2564, 0.6645, 0.8609],\n",
      "        [0.3538, 0.3347, 0.7285, 0.5794]])\n",
      "Second random tensor: \n",
      "tensor([[0.2919, 0.2857, 0.4021, 0.4645],\n",
      "        [0.9503, 0.2564, 0.6645, 0.8609],\n",
      "        [0.3538, 0.3347, 0.7285, 0.5794]])\n",
      "\n",
      "tensor([[True, True, True, True],\n",
      "        [True, True, True, True],\n",
      "        [True, True, True, True]])\n"
     ]
    }
   ],
   "source": [
    "# Let's make some random but reproducible tensors\n",
    "import torch\n",
    "# Set the random seed\n",
    "RANDOM_SEED = 77\n",
    "torch.manual_seed(RANDOM_SEED)\n",
    "random_tensor_C = torch.rand(3,4)\n",
    "torch.manual_seed(RANDOM_SEED)\n",
    "random_tensor_D = torch.rand(3,4)\n",
    "print(f\"First random tensor: \\n{random_tensor_C}\")\n",
    "print(f\"Second random tensor: \\n{random_tensor_D}\\n\")\n",
    "print(random_tensor_C == random_tensor_D)\n",
    "# Random seed generally works only for 1 block of code so be careful."
   ]
  },
  {
   "cell_type": "code",
   "execution_count": 271,
   "metadata": {},
   "outputs": [
    {
     "name": "stdout",
     "output_type": "stream",
     "text": [
      "Using device: mps\n"
     ]
    },
    {
     "data": {
      "text/plain": [
       "0"
      ]
     },
     "execution_count": 271,
     "metadata": {},
     "output_type": "execute_result"
    }
   ],
   "source": [
    "# Running tensors and Pytorch objects on the GPUs (and making faster computations)\n",
    "\n",
    "# Use GPU if available\n",
    "device = \"mps\" if torch.backends.mps.is_available() else \"cpu\"\n",
    "print(f\"Using device: {device}\")\n",
    "\n",
    "# Count the number of devices available\n",
    "# torch.cuda.device_count()"
   ]
  },
  {
   "cell_type": "markdown",
   "metadata": {},
   "source": [
    "## Putting tensors and models on the GPU\n",
    "\n",
    "The reason we want our tensors/models on the GPU is beacause usig a GPu results in faster computations."
   ]
  },
  {
   "cell_type": "code",
   "execution_count": 272,
   "metadata": {},
   "outputs": [
    {
     "data": {
      "text/plain": [
       "device(type='cpu')"
      ]
     },
     "execution_count": 272,
     "metadata": {},
     "output_type": "execute_result"
    }
   ],
   "source": [
    "tensor = torch.ones(10, 10)\n",
    "\n",
    "tensor.device"
   ]
  },
  {
   "cell_type": "code",
   "execution_count": 273,
   "metadata": {},
   "outputs": [
    {
     "data": {
      "text/plain": [
       "device(type='mps', index=0)"
      ]
     },
     "execution_count": 273,
     "metadata": {},
     "output_type": "execute_result"
    }
   ],
   "source": [
    "tensor_on_gpu = tensor.to(device)\n",
    "tensor_on_gpu.device"
   ]
  },
  {
   "cell_type": "markdown",
   "metadata": {},
   "source": [
    "## 4. Moving tensors back to the CPU"
   ]
  },
  {
   "cell_type": "code",
   "execution_count": 274,
   "metadata": {},
   "outputs": [
    {
     "ename": "TypeError",
     "evalue": "can't convert mps:0 device type tensor to numpy. Use Tensor.cpu() to copy the tensor to host memory first.",
     "output_type": "error",
     "traceback": [
      "\u001b[0;31m---------------------------------------------------------------------------\u001b[0m",
      "\u001b[0;31mTypeError\u001b[0m                                 Traceback (most recent call last)",
      "Cell \u001b[0;32mIn[274], line 1\u001b[0m\n\u001b[0;32m----> 1\u001b[0m tensor_on_gpu\u001b[39m.\u001b[39;49mnumpy()\n",
      "\u001b[0;31mTypeError\u001b[0m: can't convert mps:0 device type tensor to numpy. Use Tensor.cpu() to copy the tensor to host memory first."
     ]
    }
   ],
   "source": [
    "tensor_on_gpu.numpy()\n",
    "# numpy doesnt work with GPUs"
   ]
  },
  {
   "cell_type": "code",
   "execution_count": 276,
   "metadata": {},
   "outputs": [
    {
     "data": {
      "text/plain": [
       "array([[1., 1., 1., 1., 1., 1., 1., 1., 1., 1.],\n",
       "       [1., 1., 1., 1., 1., 1., 1., 1., 1., 1.],\n",
       "       [1., 1., 1., 1., 1., 1., 1., 1., 1., 1.],\n",
       "       [1., 1., 1., 1., 1., 1., 1., 1., 1., 1.],\n",
       "       [1., 1., 1., 1., 1., 1., 1., 1., 1., 1.],\n",
       "       [1., 1., 1., 1., 1., 1., 1., 1., 1., 1.],\n",
       "       [1., 1., 1., 1., 1., 1., 1., 1., 1., 1.],\n",
       "       [1., 1., 1., 1., 1., 1., 1., 1., 1., 1.],\n",
       "       [1., 1., 1., 1., 1., 1., 1., 1., 1., 1.],\n",
       "       [1., 1., 1., 1., 1., 1., 1., 1., 1., 1.]], dtype=float32)"
      ]
     },
     "execution_count": 276,
     "metadata": {},
     "output_type": "execute_result"
    }
   ],
   "source": [
    "# To fix this, we can move our tensor back to the CPU\n",
    "tensor_back_on_cpu = tensor_on_gpu.cpu().numpy()\n",
    "tensor_back_on_cpu"
   ]
  },
  {
   "cell_type": "code",
   "execution_count": 278,
   "metadata": {},
   "outputs": [
    {
     "data": {
      "text/plain": [
       "tensor([[1., 1., 1., 1., 1., 1., 1., 1., 1., 1.],\n",
       "        [1., 1., 1., 1., 1., 1., 1., 1., 1., 1.],\n",
       "        [1., 1., 1., 1., 1., 1., 1., 1., 1., 1.],\n",
       "        [1., 1., 1., 1., 1., 1., 1., 1., 1., 1.],\n",
       "        [1., 1., 1., 1., 1., 1., 1., 1., 1., 1.],\n",
       "        [1., 1., 1., 1., 1., 1., 1., 1., 1., 1.],\n",
       "        [1., 1., 1., 1., 1., 1., 1., 1., 1., 1.],\n",
       "        [1., 1., 1., 1., 1., 1., 1., 1., 1., 1.],\n",
       "        [1., 1., 1., 1., 1., 1., 1., 1., 1., 1.],\n",
       "        [1., 1., 1., 1., 1., 1., 1., 1., 1., 1.]], device='mps:0')"
      ]
     },
     "execution_count": 278,
     "metadata": {},
     "output_type": "execute_result"
    }
   ],
   "source": [
    "tensor_on_gpu"
   ]
  },
  {
   "cell_type": "code",
   "execution_count": 279,
   "metadata": {},
   "outputs": [
    {
     "data": {
      "text/plain": [
       "'2.0.1'"
      ]
     },
     "execution_count": 279,
     "metadata": {},
     "output_type": "execute_result"
    }
   ],
   "source": [
    "import torch\n",
    "from torch import nn\n",
    "import matplotlib.pyplot as plt\n",
    "\n",
    "torch.__version__"
   ]
  },
  {
   "cell_type": "code",
   "execution_count": 280,
   "metadata": {},
   "outputs": [
    {
     "data": {
      "text/plain": [
       "(tensor([[0.0000],\n",
       "         [0.0200],\n",
       "         [0.0400],\n",
       "         [0.0600],\n",
       "         [0.0800],\n",
       "         [0.1000],\n",
       "         [0.1200],\n",
       "         [0.1400],\n",
       "         [0.1600],\n",
       "         [0.1800]]),\n",
       " tensor([[0.3000],\n",
       "         [0.3140],\n",
       "         [0.3280],\n",
       "         [0.3420],\n",
       "         [0.3560],\n",
       "         [0.3700],\n",
       "         [0.3840],\n",
       "         [0.3980],\n",
       "         [0.4120],\n",
       "         [0.4260]]))"
      ]
     },
     "execution_count": 280,
     "metadata": {},
     "output_type": "execute_result"
    }
   ],
   "source": [
    "# Create *known* parameters\n",
    "weight = 0.7\n",
    "bias = 0.3\n",
    "\n",
    "# Create\n",
    "start = 0\n",
    "end = 1\n",
    "step = 0.02\n",
    "\n",
    "# Why unsqueeze? https://stackoverflow.com/questions/57237352/why-unsqueeze-in-pytorch\n",
    "X = torch.arange(start, end, step).unsqueeze(dim=1)\n",
    "y = weight* X + bias\n",
    "\n",
    "X[:10], y[:10]"
   ]
  },
  {
   "cell_type": "code",
   "execution_count": 281,
   "metadata": {},
   "outputs": [
    {
     "data": {
      "text/plain": [
       "(40, 10, 40, 10)"
      ]
     },
     "execution_count": 281,
     "metadata": {},
     "output_type": "execute_result"
    }
   ],
   "source": [
    "# Splitting the data into train and test sets\n",
    "\n",
    "# Let's create a training & test set\n",
    "train_split = int(0.8*len(X))\n",
    "X_train, y_train = X[:train_split], y[:train_split]\n",
    "X_test, y_test = X[train_split:], y[train_split:]\n",
    "\n",
    "len(X_train), len(X_test), len(y_train), len(y_test)\n"
   ]
  },
  {
   "cell_type": "code",
   "execution_count": 282,
   "metadata": {},
   "outputs": [],
   "source": [
    "def plot_predictions(train_data=X_train,\n",
    "                     train_labels=y_train,\n",
    "                     test_data=X_test,\n",
    "                     test_labels=y_test,\n",
    "                     predictions=None):\n",
    "    \"\"\"\n",
    "    Plots training data, test data and compares predictions if not None.\n",
    "    \"\"\"\n",
    "    plt.figure(figsize=(10, 7))\n",
    "\n",
    "    # Plot training data in blue\n",
    "    plt.scatter(train_data, train_labels, c='b',s=4,label='Training data')\n",
    "\n",
    "    plt.scatter(test_data, test_labels, c='g',s=4, label='Testing data')\n",
    "\n",
    "    # Are there predictions?\n",
    "    if predictions is not None:\n",
    "        plt.scatter(test_data, predictions, c='r',s=4, label='Predictions')\n",
    "    \n",
    "    plt.legend()"
   ]
  },
  {
   "cell_type": "code",
   "execution_count": 283,
   "metadata": {},
   "outputs": [
    {
     "data": {
      "image/png": "[encoded data removed]",
      "text/plain": [
       "<Figure size 1000x700 with 1 Axes>"
      ]
     },
     "metadata": {},
     "output_type": "display_data"
    }
   ],
   "source": [
    "plot_predictions()"
   ]
  },
  {
   "cell_type": "markdown",
   "metadata": {},
   "source": [
    "## Build model\n",
    "\n",
    "Our first PyTorch model!\n",
    "\n",
    "We will be building classes - https://realpython.com/python3-object-oriented-programming/\n"
   ]
  },
  {
   "cell_type": "code",
   "execution_count": 294,
   "metadata": {},
   "outputs": [],
   "source": [
    "from torch import nn\n",
    "\n",
    "# Create linear regression model class\n",
    "class LinearRegressionModel(nn.Module): # <- almost everything inherits from nn.Module\n",
    "    def __init__(self):\n",
    "        super().__init__()\n",
    "\n",
    "        # Initialize the model parameters\n",
    "        self.weights = nn.Parameter(torch.randn(1,\n",
    "                                    requires_grad=True, # set by default\n",
    "                                    dtype=torch.float))\n",
    "        self.bias = nn.Parameter(torch.randn(1,\n",
    "                                             requires_grad=True,\n",
    "                                             dtype=torch.float))\n",
    "    \n",
    "    def forward(self, x: torch.Tensor): # -> \"x\" is the input data\n",
    "        return x * self.weights + self.bias # linear reg formula"
   ]
  },
  {
   "cell_type": "markdown",
   "metadata": {},
   "source": [
    "### PyTorch model building essentials\n",
    "\n",
    "* torch.nn - contains all of the building blokcs for computational graphs (a nn is a computational graph)\n",
    "* torch.nn.Parameter - what parameters should our model try and learn, often a Pytorch layer from torch.nn will set these three for us\n",
    "* torch.nn.Module - The base class for all nn modules, if u subclass it, you should overwrite forward()\n",
    "* torch.optim - where optimizers live, helps with grad descent\n",
    "* def forward() - All nn.Module subclasses require you to overwrite forward()"
   ]
  },
  {
   "cell_type": "markdown",
   "metadata": {},
   "source": [
    "### Checking the contents of our Pytorch model\n",
    "\n",
    "Now we've created a model, let's see what's inside\n",
    "\n",
    "So we can check out model params or whats inside our model using .parameters()"
   ]
  },
  {
   "cell_type": "code",
   "execution_count": 442,
   "metadata": {},
   "outputs": [
    {
     "data": {
      "text/plain": [
       "(LinearRegressionModel(), <generator object Module.parameters at 0x13a18d460>)"
      ]
     },
     "execution_count": 442,
     "metadata": {},
     "output_type": "execute_result"
    }
   ],
   "source": [
    "# Create a random seed\n",
    "torch.manual_seed(42)\n",
    "\n",
    "# Create an instance of the model (this is a subclass of nn.Module)\n",
    "model_0 = LinearRegressionModel()\n",
    "model_0, model_0.parameters()"
   ]
  },
  {
   "cell_type": "code",
   "execution_count": 443,
   "metadata": {},
   "outputs": [
    {
     "data": {
      "text/plain": [
       "[Parameter containing:\n",
       " tensor([0.3367], requires_grad=True),\n",
       " Parameter containing:\n",
       " tensor([0.1288], requires_grad=True)]"
      ]
     },
     "execution_count": 443,
     "metadata": {},
     "output_type": "execute_result"
    }
   ],
   "source": [
    "list(model_0.parameters())"
   ]
  },
  {
   "cell_type": "code",
   "execution_count": 444,
   "metadata": {},
   "outputs": [
    {
     "data": {
      "text/plain": [
       "OrderedDict([('weights', tensor([0.3367])), ('bias', tensor([0.1288]))])"
      ]
     },
     "execution_count": 444,
     "metadata": {},
     "output_type": "execute_result"
    }
   ],
   "source": [
    "# Dictionary of the params of the model\n",
    "model_0.state_dict()"
   ]
  },
  {
   "cell_type": "code",
   "execution_count": 445,
   "metadata": {},
   "outputs": [
    {
     "data": {
      "text/plain": [
       "(0.7, 0.3)"
      ]
     },
     "execution_count": 445,
     "metadata": {},
     "output_type": "execute_result"
    }
   ],
   "source": [
    "weight, bias # ideal values"
   ]
  },
  {
   "cell_type": "code",
   "execution_count": 446,
   "metadata": {},
   "outputs": [
    {
     "data": {
      "text/plain": [
       "(tensor([[0.8000],\n",
       "         [0.8200],\n",
       "         [0.8400],\n",
       "         [0.8600],\n",
       "         [0.8800],\n",
       "         [0.9000],\n",
       "         [0.9200],\n",
       "         [0.9400],\n",
       "         [0.9600],\n",
       "         [0.9800]]),\n",
       " tensor([[0.8600],\n",
       "         [0.8740],\n",
       "         [0.8880],\n",
       "         [0.9020],\n",
       "         [0.9160],\n",
       "         [0.9300],\n",
       "         [0.9440],\n",
       "         [0.9580],\n",
       "         [0.9720],\n",
       "         [0.9860]]))"
      ]
     },
     "execution_count": 446,
     "metadata": {},
     "output_type": "execute_result"
    }
   ],
   "source": [
    "X_test, y_test"
   ]
  },
  {
   "cell_type": "code",
   "execution_count": 447,
   "metadata": {},
   "outputs": [
    {
     "data": {
      "text/plain": [
       "tensor([[0.3982],\n",
       "        [0.4049],\n",
       "        [0.4116],\n",
       "        [0.4184],\n",
       "        [0.4251],\n",
       "        [0.4318],\n",
       "        [0.4386],\n",
       "        [0.4453],\n",
       "        [0.4520],\n",
       "        [0.4588]], grad_fn=<AddBackward0>)"
      ]
     },
     "execution_count": 447,
     "metadata": {},
     "output_type": "execute_result"
    }
   ],
   "source": [
    "y_preds = model_0(X_test)\n",
    "y_preds"
   ]
  },
  {
   "cell_type": "code",
   "execution_count": 448,
   "metadata": {},
   "outputs": [
    {
     "name": "stdout",
     "output_type": "stream",
     "text": [
      "Predictions: \n",
      "tensor([[0.3982],\n",
      "        [0.4049],\n",
      "        [0.4116],\n",
      "        [0.4184],\n",
      "        [0.4251],\n",
      "        [0.4318],\n",
      "        [0.4386],\n",
      "        [0.4453],\n",
      "        [0.4520],\n",
      "        [0.4588]])\n"
     ]
    }
   ],
   "source": [
    "### making predictions using `torch.inference_mode()`\n",
    " # predictions will be faster in inference_mode because pytorch won't keep track of gradients like it does during training\n",
    "with torch.inference_mode():\n",
    "    y_preds = model_0(X_test)\n",
    "\n",
    "# # inference_mode is no_grad on steroids - https://twitter.com/PyTorch/status/1437838231505096708?lang=en\n",
    "# with torch.no_grad():\n",
    "#     y_preds = model_0(X_test)\n",
    "\n",
    "print(f\"Predictions: \\n{y_preds[:10]}\")"
   ]
  },
  {
   "cell_type": "code",
   "execution_count": 449,
   "metadata": {},
   "outputs": [
    {
     "data": {
      "image/png": "[encoded data removed]",
      "text/plain": [
       "<Figure size 1000x700 with 1 Axes>"
      ]
     },
     "metadata": {},
     "output_type": "display_data"
    }
   ],
   "source": [
    "plot_predictions(predictions=y_preds)"
   ]
  },
  {
   "cell_type": "markdown",
   "metadata": {},
   "source": [
    "### Train model\n",
    "\n",
    "One way to measure how good or bad our model is performing is a loss function\n",
    "\n",
    "- Note: Loss function may also be called cost function\n",
    "\n",
    "Things we need to train:\n",
    "- Loss function: measures how wrong your models predictions are, lower better\n",
    "- Optimizer: takes into account the loss of a model and adjusts the model's parameters (ex: weight & bias)\n",
    "\n",
    "And specifically for PyTorch, we need:\n",
    "- A training loop\n",
    "- A testing loop"
   ]
  },
  {
   "cell_type": "code",
   "execution_count": 450,
   "metadata": {},
   "outputs": [
    {
     "data": {
      "text/plain": [
       "[Parameter containing:\n",
       " tensor([0.3367], requires_grad=True),\n",
       " Parameter containing:\n",
       " tensor([0.1288], requires_grad=True)]"
      ]
     },
     "execution_count": 450,
     "metadata": {},
     "output_type": "execute_result"
    }
   ],
   "source": [
    "list(model_0.parameters())"
   ]
  },
  {
   "cell_type": "code",
   "execution_count": 451,
   "metadata": {},
   "outputs": [
    {
     "data": {
      "text/plain": [
       "OrderedDict([('weights', tensor([0.3367])), ('bias', tensor([0.1288]))])"
      ]
     },
     "execution_count": 451,
     "metadata": {},
     "output_type": "execute_result"
    }
   ],
   "source": [
    "# Check out our model's params\n",
    "model_0.state_dict()"
   ]
  },
  {
   "cell_type": "code",
   "execution_count": 452,
   "metadata": {},
   "outputs": [],
   "source": [
    "# Setup a loss function\n",
    "loss_fn = nn.L1Loss()\n",
    "\n",
    "# Setup an optimizer (SGD)\n",
    "optimizer = torch.optim.SGD(params=model_0.parameters(), lr=0.001)"
   ]
  },
  {
   "cell_type": "markdown",
   "metadata": {},
   "source": [
    "### Building a training loop and testing loop\n",
    "\n",
    "A couple of things we need in a training loop:\n",
    "0. Loop through the data\n",
    "1. Forward pass (this involves data moving through our `forward()` functions) to make predictions on data - also called forward propagation\n",
    "2. Calculate the loss (compare pass predictions to ground truth labels)\n",
    "3. optimizer zero grad\n",
    "4. Loss backward - move backwards through the network to calculate gradient of each parameters with respect to the loss (**backpropagation**)\n",
    "5. Optimizer step - use the optimizer's params tp try and improve the loss (**grad descent**)"
   ]
  },
  {
   "cell_type": "code",
   "execution_count": 453,
   "metadata": {},
   "outputs": [
    {
     "data": {
      "text/plain": [
       "[Parameter containing:\n",
       " tensor([0.3367], requires_grad=True),\n",
       " Parameter containing:\n",
       " tensor([0.1288], requires_grad=True)]"
      ]
     },
     "execution_count": 453,
     "metadata": {},
     "output_type": "execute_result"
    }
   ],
   "source": [
    "list(model_0.parameters())"
   ]
  },
  {
   "cell_type": "code",
   "execution_count": 463,
   "metadata": {},
   "outputs": [
    {
     "name": "stdout",
     "output_type": "stream",
     "text": [
      "Epoch 1 training loss: 0.0175\n",
      "Epoch 0| Loss: 0.017490629106760025 | Test loss: 0.04084048420190811\n",
      "OrderedDict([('weights', tensor([0.6131])), ('bias', tensor([0.3365]))])\n",
      "Epoch 2 training loss: 0.0175\n",
      "Epoch 3 training loss: 0.0174\n",
      "Epoch 4 training loss: 0.0174\n",
      "Epoch 5 training loss: 0.0174\n",
      "Epoch 6 training loss: 0.0173\n",
      "Epoch 7 training loss: 0.0173\n",
      "Epoch 8 training loss: 0.0173\n",
      "Epoch 9 training loss: 0.0172\n",
      "Epoch 10 training loss: 0.0172\n",
      "Epoch 11 training loss: 0.0171\n",
      "Epoch 10| Loss: 0.017147328704595566 | Test loss: 0.040013112127780914\n",
      "OrderedDict([('weights', tensor([0.6149])), ('bias', tensor([0.3358]))])\n",
      "Epoch 12 training loss: 0.0171\n",
      "Epoch 13 training loss: 0.0171\n",
      "Epoch 14 training loss: 0.0170\n",
      "Epoch 15 training loss: 0.0170\n",
      "Epoch 16 training loss: 0.0170\n",
      "Epoch 17 training loss: 0.0169\n",
      "Epoch 18 training loss: 0.0169\n",
      "Epoch 19 training loss: 0.0169\n",
      "Epoch 20 training loss: 0.0168\n",
      "Epoch 21 training loss: 0.0168\n",
      "Epoch 20| Loss: 0.016803428530693054 | Test loss: 0.03918575122952461\n",
      "OrderedDict([('weights', tensor([0.6166])), ('bias', tensor([0.3351]))])\n",
      "Epoch 22 training loss: 0.0168\n",
      "Epoch 23 training loss: 0.0167\n",
      "Epoch 24 training loss: 0.0167\n",
      "Epoch 25 training loss: 0.0167\n",
      "Epoch 26 training loss: 0.0166\n",
      "Epoch 27 training loss: 0.0166\n",
      "Epoch 28 training loss: 0.0166\n",
      "Epoch 29 training loss: 0.0165\n",
      "Epoch 30 training loss: 0.0165\n",
      "Epoch 31 training loss: 0.0165\n",
      "Epoch 30| Loss: 0.016460372135043144 | Test loss: 0.03842703625559807\n",
      "OrderedDict([('weights', tensor([0.6183])), ('bias', tensor([0.3343]))])\n",
      "Epoch 32 training loss: 0.0164\n",
      "Epoch 33 training loss: 0.0164\n",
      "Epoch 34 training loss: 0.0164\n",
      "Epoch 35 training loss: 0.0163\n",
      "Epoch 36 training loss: 0.0163\n",
      "Epoch 37 training loss: 0.0163\n",
      "Epoch 38 training loss: 0.0162\n",
      "Epoch 39 training loss: 0.0162\n",
      "Epoch 40 training loss: 0.0162\n",
      "Epoch 41 training loss: 0.0161\n",
      "Epoch 40| Loss: 0.016116898506879807 | Test loss: 0.03759966418147087\n",
      "OrderedDict([('weights', tensor([0.6200])), ('bias', tensor([0.3336]))])\n",
      "Epoch 42 training loss: 0.0161\n",
      "Epoch 43 training loss: 0.0160\n",
      "Epoch 44 training loss: 0.0160\n",
      "Epoch 45 training loss: 0.0160\n",
      "Epoch 46 training loss: 0.0159\n",
      "Epoch 47 training loss: 0.0159\n",
      "Epoch 48 training loss: 0.0159\n",
      "Epoch 49 training loss: 0.0158\n",
      "Epoch 50 training loss: 0.0158\n",
      "Epoch 51 training loss: 0.0158\n",
      "Epoch 50| Loss: 0.015772998332977295 | Test loss: 0.036772288382053375\n",
      "OrderedDict([('weights', tensor([0.6217])), ('bias', tensor([0.3329]))])\n",
      "Epoch 52 training loss: 0.0157\n",
      "Epoch 53 training loss: 0.0157\n",
      "Epoch 54 training loss: 0.0157\n",
      "Epoch 55 training loss: 0.0156\n",
      "Epoch 56 training loss: 0.0156\n",
      "Epoch 57 training loss: 0.0156\n",
      "Epoch 58 training loss: 0.0155\n",
      "Epoch 59 training loss: 0.0155\n",
      "Epoch 60 training loss: 0.0155\n",
      "Epoch 61 training loss: 0.0154\n",
      "Epoch 60| Loss: 0.01543011236935854 | Test loss: 0.03601359575986862\n",
      "OrderedDict([('weights', tensor([0.6234])), ('bias', tensor([0.3322]))])\n",
      "Epoch 62 training loss: 0.0154\n",
      "Epoch 63 training loss: 0.0154\n",
      "Epoch 64 training loss: 0.0153\n",
      "Epoch 65 training loss: 0.0153\n",
      "Epoch 66 training loss: 0.0153\n",
      "Epoch 67 training loss: 0.0152\n",
      "Epoch 68 training loss: 0.0152\n",
      "Epoch 69 training loss: 0.0152\n",
      "Epoch 70 training loss: 0.0151\n",
      "Epoch 71 training loss: 0.0151\n",
      "Epoch 70| Loss: 0.015086461789906025 | Test loss: 0.03518623113632202\n",
      "OrderedDict([('weights', tensor([0.6251])), ('bias', tensor([0.3315]))])\n",
      "Epoch 72 training loss: 0.0151\n",
      "Epoch 73 training loss: 0.0150\n",
      "Epoch 74 training loss: 0.0150\n",
      "Epoch 75 training loss: 0.0149\n",
      "Epoch 76 training loss: 0.0149\n",
      "Epoch 77 training loss: 0.0149\n",
      "Epoch 78 training loss: 0.0148\n",
      "Epoch 79 training loss: 0.0148\n",
      "Epoch 80 training loss: 0.0148\n",
      "Epoch 81 training loss: 0.0147\n",
      "Epoch 80| Loss: 0.014742719009518623 | Test loss: 0.03442750498652458\n",
      "OrderedDict([('weights', tensor([0.6268])), ('bias', tensor([0.3307]))])\n",
      "Epoch 82 training loss: 0.0147\n",
      "Epoch 83 training loss: 0.0147\n",
      "Epoch 84 training loss: 0.0146\n",
      "Epoch 85 training loss: 0.0146\n",
      "Epoch 86 training loss: 0.0146\n",
      "Epoch 87 training loss: 0.0145\n",
      "Epoch 88 training loss: 0.0145\n",
      "Epoch 89 training loss: 0.0145\n",
      "Epoch 90 training loss: 0.0144\n",
      "Epoch 91 training loss: 0.0144\n",
      "Epoch 90| Loss: 0.01439985167235136 | Test loss: 0.03360014408826828\n",
      "OrderedDict([('weights', tensor([0.6285])), ('bias', tensor([0.3300]))])\n",
      "Epoch 92 training loss: 0.0144\n",
      "Epoch 93 training loss: 0.0143\n",
      "Epoch 94 training loss: 0.0143\n",
      "Epoch 95 training loss: 0.0143\n",
      "Epoch 96 training loss: 0.0142\n",
      "Epoch 97 training loss: 0.0142\n",
      "Epoch 98 training loss: 0.0142\n",
      "Epoch 99 training loss: 0.0141\n",
      "Epoch 100 training loss: 0.0141\n",
      "Epoch 101 training loss: 0.0141\n",
      "Epoch 100| Loss: 0.014056026935577393 | Test loss: 0.03277278691530228\n",
      "OrderedDict([('weights', tensor([0.6302])), ('bias', tensor([0.3293]))])\n",
      "Epoch 102 training loss: 0.0140\n",
      "Epoch 103 training loss: 0.0140\n",
      "Epoch 104 training loss: 0.0140\n",
      "Epoch 105 training loss: 0.0139\n",
      "Epoch 106 training loss: 0.0139\n",
      "Epoch 107 training loss: 0.0139\n",
      "Epoch 108 training loss: 0.0138\n",
      "Epoch 109 training loss: 0.0138\n",
      "Epoch 110 training loss: 0.0137\n",
      "Epoch 111 training loss: 0.0137\n",
      "Epoch 110| Loss: 0.013712461106479168 | Test loss: 0.03201407939195633\n",
      "OrderedDict([('weights', tensor([0.6319])), ('bias', tensor([0.3286]))])\n",
      "Epoch 112 training loss: 0.0137\n",
      "Epoch 113 training loss: 0.0136\n",
      "Epoch 114 training loss: 0.0136\n",
      "Epoch 115 training loss: 0.0136\n",
      "Epoch 116 training loss: 0.0135\n",
      "Epoch 117 training loss: 0.0135\n",
      "Epoch 118 training loss: 0.0135\n",
      "Epoch 119 training loss: 0.0134\n",
      "Epoch 120 training loss: 0.0134\n",
      "Epoch 121 training loss: 0.0134\n",
      "Epoch 120| Loss: 0.013369495049118996 | Test loss: 0.031186699867248535\n",
      "OrderedDict([('weights', tensor([0.6337])), ('bias', tensor([0.3279]))])\n",
      "Epoch 122 training loss: 0.0133\n",
      "Epoch 123 training loss: 0.0133\n",
      "Epoch 124 training loss: 0.0133\n",
      "Epoch 125 training loss: 0.0132\n",
      "Epoch 126 training loss: 0.0132\n",
      "Epoch 127 training loss: 0.0132\n",
      "Epoch 128 training loss: 0.0131\n",
      "Epoch 129 training loss: 0.0131\n",
      "Epoch 130 training loss: 0.0131\n",
      "Epoch 131 training loss: 0.0130\n",
      "Epoch 130| Loss: 0.01302559394389391 | Test loss: 0.030359338968992233\n",
      "OrderedDict([('weights', tensor([0.6354])), ('bias', tensor([0.3272]))])\n",
      "Epoch 132 training loss: 0.0130\n",
      "Epoch 133 training loss: 0.0130\n",
      "Epoch 134 training loss: 0.0129\n",
      "Epoch 135 training loss: 0.0129\n",
      "Epoch 136 training loss: 0.0129\n",
      "Epoch 137 training loss: 0.0128\n",
      "Epoch 138 training loss: 0.0128\n",
      "Epoch 139 training loss: 0.0128\n",
      "Epoch 140 training loss: 0.0127\n",
      "Epoch 141 training loss: 0.0127\n",
      "Epoch 140| Loss: 0.012682202272117138 | Test loss: 0.029600614681839943\n",
      "OrderedDict([('weights', tensor([0.6371])), ('bias', tensor([0.3264]))])\n",
      "Epoch 142 training loss: 0.0126\n",
      "Epoch 143 training loss: 0.0126\n",
      "Epoch 144 training loss: 0.0126\n",
      "Epoch 145 training loss: 0.0125\n",
      "Epoch 146 training loss: 0.0125\n",
      "Epoch 147 training loss: 0.0125\n",
      "Epoch 148 training loss: 0.0124\n",
      "Epoch 149 training loss: 0.0124\n",
      "Epoch 150 training loss: 0.0124\n",
      "Epoch 151 training loss: 0.0123\n",
      "Epoch 150| Loss: 0.012339058332145214 | Test loss: 0.028773266822099686\n",
      "OrderedDict([('weights', tensor([0.6388])), ('bias', tensor([0.3257]))])\n",
      "Epoch 152 training loss: 0.0123\n",
      "Epoch 153 training loss: 0.0123\n",
      "Epoch 154 training loss: 0.0122\n",
      "Epoch 155 training loss: 0.0122\n",
      "Epoch 156 training loss: 0.0122\n",
      "Epoch 157 training loss: 0.0121\n",
      "Epoch 158 training loss: 0.0121\n",
      "Epoch 159 training loss: 0.0121\n",
      "Epoch 160 training loss: 0.0120\n",
      "Epoch 161 training loss: 0.0120\n",
      "Epoch 160| Loss: 0.011995161883533001 | Test loss: 0.02794589474797249\n",
      "OrderedDict([('weights', tensor([0.6405])), ('bias', tensor([0.3250]))])\n",
      "Epoch 162 training loss: 0.0120\n",
      "Epoch 163 training loss: 0.0119\n",
      "Epoch 164 training loss: 0.0119\n",
      "Epoch 165 training loss: 0.0119\n",
      "Epoch 166 training loss: 0.0118\n",
      "Epoch 167 training loss: 0.0118\n",
      "Epoch 168 training loss: 0.0118\n",
      "Epoch 169 training loss: 0.0117\n",
      "Epoch 170 training loss: 0.0117\n",
      "Epoch 171 training loss: 0.0117\n",
      "Epoch 170| Loss: 0.011651947163045406 | Test loss: 0.02718718722462654\n",
      "OrderedDict([('weights', tensor([0.6422])), ('bias', tensor([0.3243]))])\n",
      "Epoch 172 training loss: 0.0116\n",
      "Epoch 173 training loss: 0.0116\n",
      "Epoch 174 training loss: 0.0115\n",
      "Epoch 175 training loss: 0.0115\n",
      "Epoch 176 training loss: 0.0115\n",
      "Epoch 177 training loss: 0.0114\n",
      "Epoch 178 training loss: 0.0114\n",
      "Epoch 179 training loss: 0.0114\n",
      "Epoch 180 training loss: 0.0113\n",
      "Epoch 181 training loss: 0.0113\n",
      "Epoch 180| Loss: 0.011308629997074604 | Test loss: 0.026359815150499344\n",
      "OrderedDict([('weights', tensor([0.6439])), ('bias', tensor([0.3236]))])\n",
      "Epoch 182 training loss: 0.0113\n",
      "Epoch 183 training loss: 0.0112\n",
      "Epoch 184 training loss: 0.0112\n",
      "Epoch 185 training loss: 0.0112\n",
      "Epoch 186 training loss: 0.0111\n",
      "Epoch 187 training loss: 0.0111\n",
      "Epoch 188 training loss: 0.0111\n",
      "Epoch 189 training loss: 0.0110\n",
      "Epoch 190 training loss: 0.0110\n",
      "Epoch 191 training loss: 0.0110\n",
      "Epoch 190| Loss: 0.010964717715978622 | Test loss: 0.025532448664307594\n",
      "OrderedDict([('weights', tensor([0.6456])), ('bias', tensor([0.3229]))])\n",
      "Epoch 192 training loss: 0.0109\n",
      "Epoch 193 training loss: 0.0109\n",
      "Epoch 194 training loss: 0.0109\n",
      "Epoch 195 training loss: 0.0108\n",
      "Epoch 196 training loss: 0.0108\n",
      "Epoch 197 training loss: 0.0108\n",
      "Epoch 198 training loss: 0.0107\n",
      "Epoch 199 training loss: 0.0107\n",
      "Epoch 200 training loss: 0.0107\n",
      "Epoch 201 training loss: 0.0106\n",
      "Epoch 200| Loss: 0.010621683672070503 | Test loss: 0.0247737355530262\n",
      "OrderedDict([('weights', tensor([0.6473])), ('bias', tensor([0.3221]))])\n",
      "Epoch 202 training loss: 0.0106\n",
      "Epoch 203 training loss: 0.0106\n",
      "Epoch 204 training loss: 0.0105\n",
      "Epoch 205 training loss: 0.0105\n",
      "Epoch 206 training loss: 0.0105\n",
      "Epoch 207 training loss: 0.0104\n",
      "Epoch 208 training loss: 0.0104\n",
      "Epoch 209 training loss: 0.0103\n",
      "Epoch 210 training loss: 0.0103\n",
      "Epoch 211 training loss: 0.0103\n",
      "Epoch 210| Loss: 0.0102781867608428 | Test loss: 0.023946374654769897\n",
      "OrderedDict([('weights', tensor([0.6490])), ('bias', tensor([0.3214]))])\n",
      "Epoch 212 training loss: 0.0102\n",
      "Epoch 213 training loss: 0.0102\n",
      "Epoch 214 training loss: 0.0102\n",
      "Epoch 215 training loss: 0.0101\n",
      "Epoch 216 training loss: 0.0101\n",
      "Epoch 217 training loss: 0.0101\n",
      "Epoch 218 training loss: 0.0100\n",
      "Epoch 219 training loss: 0.0100\n",
      "Epoch 220 training loss: 0.0100\n",
      "Epoch 221 training loss: 0.0099\n",
      "Epoch 220| Loss: 0.009934292174875736 | Test loss: 0.023187648504972458\n",
      "OrderedDict([('weights', tensor([0.6507])), ('bias', tensor([0.3207]))])\n",
      "Epoch 222 training loss: 0.0099\n",
      "Epoch 223 training loss: 0.0099\n",
      "Epoch 224 training loss: 0.0098\n",
      "Epoch 225 training loss: 0.0098\n",
      "Epoch 226 training loss: 0.0098\n",
      "Epoch 227 training loss: 0.0097\n",
      "Epoch 228 training loss: 0.0097\n",
      "Epoch 229 training loss: 0.0097\n",
      "Epoch 230 training loss: 0.0096\n",
      "Epoch 231 training loss: 0.0096\n",
      "Epoch 230| Loss: 0.009591430425643921 | Test loss: 0.0223603006452322\n",
      "OrderedDict([('weights', tensor([0.6525])), ('bias', tensor([0.3200]))])\n",
      "Epoch 232 training loss: 0.0096\n",
      "Epoch 233 training loss: 0.0095\n",
      "Epoch 234 training loss: 0.0095\n",
      "Epoch 235 training loss: 0.0095\n",
      "Epoch 236 training loss: 0.0094\n",
      "Epoch 237 training loss: 0.0094\n",
      "Epoch 238 training loss: 0.0094\n",
      "Epoch 239 training loss: 0.0093\n",
      "Epoch 240 training loss: 0.0093\n",
      "Epoch 241 training loss: 0.0092\n",
      "Epoch 240| Loss: 0.009247747249901295 | Test loss: 0.021532922983169556\n",
      "OrderedDict([('weights', tensor([0.6542])), ('bias', tensor([0.3193]))])\n",
      "Epoch 242 training loss: 0.0092\n",
      "Epoch 243 training loss: 0.0092\n",
      "Epoch 244 training loss: 0.0091\n",
      "Epoch 245 training loss: 0.0091\n",
      "Epoch 246 training loss: 0.0091\n",
      "Epoch 247 training loss: 0.0090\n",
      "Epoch 248 training loss: 0.0090\n",
      "Epoch 249 training loss: 0.0090\n",
      "Epoch 250 training loss: 0.0089\n",
      "Epoch 251 training loss: 0.0089\n",
      "Epoch 250| Loss: 0.00890403799712658 | Test loss: 0.020774226635694504\n",
      "OrderedDict([('weights', tensor([0.6559])), ('bias', tensor([0.3185]))])\n",
      "Epoch 252 training loss: 0.0089\n",
      "Epoch 253 training loss: 0.0088\n",
      "Epoch 254 training loss: 0.0088\n",
      "Epoch 255 training loss: 0.0088\n",
      "Epoch 256 training loss: 0.0087\n",
      "Epoch 257 training loss: 0.0087\n",
      "Epoch 258 training loss: 0.0087\n",
      "Epoch 259 training loss: 0.0086\n",
      "Epoch 260 training loss: 0.0086\n",
      "Epoch 261 training loss: 0.0086\n",
      "Epoch 260| Loss: 0.008561170659959316 | Test loss: 0.019946854561567307\n",
      "OrderedDict([('weights', tensor([0.6576])), ('bias', tensor([0.3178]))])\n",
      "Epoch 262 training loss: 0.0085\n",
      "Epoch 263 training loss: 0.0085\n",
      "Epoch 264 training loss: 0.0085\n",
      "Epoch 265 training loss: 0.0084\n",
      "Epoch 266 training loss: 0.0084\n",
      "Epoch 267 training loss: 0.0084\n",
      "Epoch 268 training loss: 0.0083\n",
      "Epoch 269 training loss: 0.0083\n",
      "Epoch 270 training loss: 0.0083\n",
      "Epoch 271 training loss: 0.0082\n",
      "Epoch 270| Loss: 0.00821731798350811 | Test loss: 0.01911948248744011\n",
      "OrderedDict([('weights', tensor([0.6593])), ('bias', tensor([0.3171]))])\n",
      "Epoch 272 training loss: 0.0082\n",
      "Epoch 273 training loss: 0.0081\n",
      "Epoch 274 training loss: 0.0081\n",
      "Epoch 275 training loss: 0.0081\n",
      "Epoch 276 training loss: 0.0080\n",
      "Epoch 277 training loss: 0.0080\n",
      "Epoch 278 training loss: 0.0080\n",
      "Epoch 279 training loss: 0.0079\n",
      "Epoch 280 training loss: 0.0079\n",
      "Epoch 281 training loss: 0.0079\n",
      "Epoch 280| Loss: 0.0078737773001194 | Test loss: 0.018360769376158714\n",
      "OrderedDict([('weights', tensor([0.6610])), ('bias', tensor([0.3164]))])\n",
      "Epoch 282 training loss: 0.0078\n",
      "Epoch 283 training loss: 0.0078\n",
      "Epoch 284 training loss: 0.0078\n",
      "Epoch 285 training loss: 0.0077\n",
      "Epoch 286 training loss: 0.0077\n",
      "Epoch 287 training loss: 0.0077\n",
      "Epoch 288 training loss: 0.0076\n",
      "Epoch 289 training loss: 0.0076\n",
      "Epoch 290 training loss: 0.0076\n",
      "Epoch 291 training loss: 0.0075\n",
      "Epoch 290| Loss: 0.007530786097049713 | Test loss: 0.01753341034054756\n",
      "OrderedDict([('weights', tensor([0.6627])), ('bias', tensor([0.3157]))])\n",
      "Epoch 292 training loss: 0.0075\n",
      "Epoch 293 training loss: 0.0075\n",
      "Epoch 294 training loss: 0.0074\n",
      "Epoch 295 training loss: 0.0074\n",
      "Epoch 296 training loss: 0.0074\n",
      "Epoch 297 training loss: 0.0073\n",
      "Epoch 298 training loss: 0.0073\n",
      "Epoch 299 training loss: 0.0073\n",
      "Epoch 300 training loss: 0.0072\n",
      "Epoch 301 training loss: 0.0072\n",
      "Epoch 300| Loss: 0.007186878472566605 | Test loss: 0.01670604944229126\n",
      "OrderedDict([('weights', tensor([0.6644])), ('bias', tensor([0.3150]))])\n",
      "Epoch 302 training loss: 0.0072\n",
      "Epoch 303 training loss: 0.0071\n",
      "Epoch 304 training loss: 0.0071\n",
      "Epoch 305 training loss: 0.0070\n",
      "Epoch 306 training loss: 0.0070\n",
      "Epoch 307 training loss: 0.0070\n",
      "Epoch 308 training loss: 0.0069\n",
      "Epoch 309 training loss: 0.0069\n",
      "Epoch 310 training loss: 0.0069\n",
      "Epoch 311 training loss: 0.0068\n",
      "Epoch 310| Loss: 0.006843519862741232 | Test loss: 0.01594732329249382\n",
      "OrderedDict([('weights', tensor([0.6661])), ('bias', tensor([0.3142]))])\n",
      "Epoch 312 training loss: 0.0068\n",
      "Epoch 313 training loss: 0.0068\n",
      "Epoch 314 training loss: 0.0067\n",
      "Epoch 315 training loss: 0.0067\n",
      "Epoch 316 training loss: 0.0067\n",
      "Epoch 317 training loss: 0.0066\n",
      "Epoch 318 training loss: 0.0066\n",
      "Epoch 319 training loss: 0.0066\n",
      "Epoch 320 training loss: 0.0065\n",
      "Epoch 321 training loss: 0.0065\n",
      "Epoch 320| Loss: 0.0065003493800759315 | Test loss: 0.015119964256882668\n",
      "OrderedDict([('weights', tensor([0.6678])), ('bias', tensor([0.3135]))])\n",
      "Epoch 322 training loss: 0.0065\n",
      "Epoch 323 training loss: 0.0064\n",
      "Epoch 324 training loss: 0.0064\n",
      "Epoch 325 training loss: 0.0064\n",
      "Epoch 326 training loss: 0.0063\n",
      "Epoch 327 training loss: 0.0063\n",
      "Epoch 328 training loss: 0.0063\n",
      "Epoch 329 training loss: 0.0062\n",
      "Epoch 330 training loss: 0.0062\n",
      "Epoch 331 training loss: 0.0062\n",
      "Epoch 330| Loss: 0.0061564454808831215 | Test loss: 0.014292603358626366\n",
      "OrderedDict([('weights', tensor([0.6695])), ('bias', tensor([0.3128]))])\n",
      "Epoch 332 training loss: 0.0061\n",
      "Epoch 333 training loss: 0.0061\n",
      "Epoch 334 training loss: 0.0061\n",
      "Epoch 335 training loss: 0.0060\n",
      "Epoch 336 training loss: 0.0060\n",
      "Epoch 337 training loss: 0.0060\n",
      "Epoch 338 training loss: 0.0059\n",
      "Epoch 339 training loss: 0.0059\n",
      "Epoch 340 training loss: 0.0058\n",
      "Epoch 341 training loss: 0.0058\n",
      "Epoch 340| Loss: 0.005813260562717915 | Test loss: 0.013533895835280418\n",
      "OrderedDict([('weights', tensor([0.6712])), ('bias', tensor([0.3121]))])\n",
      "Epoch 342 training loss: 0.0058\n",
      "Epoch 343 training loss: 0.0057\n",
      "Epoch 344 training loss: 0.0057\n",
      "Epoch 345 training loss: 0.0057\n",
      "Epoch 346 training loss: 0.0056\n",
      "Epoch 347 training loss: 0.0056\n",
      "Epoch 348 training loss: 0.0056\n",
      "Epoch 349 training loss: 0.0055\n",
      "Epoch 350 training loss: 0.0055\n",
      "Epoch 351 training loss: 0.0055\n",
      "Epoch 350| Loss: 0.005469911731779575 | Test loss: 0.012706518173217773\n",
      "OrderedDict([('weights', tensor([0.6730])), ('bias', tensor([0.3114]))])\n",
      "Epoch 352 training loss: 0.0054\n",
      "Epoch 353 training loss: 0.0054\n",
      "Epoch 354 training loss: 0.0054\n",
      "Epoch 355 training loss: 0.0053\n",
      "Epoch 356 training loss: 0.0053\n",
      "Epoch 357 training loss: 0.0053\n",
      "Epoch 358 training loss: 0.0052\n",
      "Epoch 359 training loss: 0.0052\n",
      "Epoch 360 training loss: 0.0052\n",
      "Epoch 361 training loss: 0.0051\n",
      "Epoch 360| Loss: 0.005126009229570627 | Test loss: 0.011879158206284046\n",
      "OrderedDict([('weights', tensor([0.6747])), ('bias', tensor([0.3107]))])\n",
      "Epoch 362 training loss: 0.0051\n",
      "Epoch 363 training loss: 0.0051\n",
      "Epoch 364 training loss: 0.0050\n",
      "Epoch 365 training loss: 0.0050\n",
      "Epoch 366 training loss: 0.0050\n",
      "Epoch 367 training loss: 0.0049\n",
      "Epoch 368 training loss: 0.0049\n",
      "Epoch 369 training loss: 0.0049\n",
      "Epoch 370 training loss: 0.0048\n",
      "Epoch 371 training loss: 0.0048\n",
      "Epoch 370| Loss: 0.004782738629728556 | Test loss: 0.011086148209869862\n",
      "OrderedDict([('weights', tensor([0.6764])), ('bias', tensor([0.3099]))])\n",
      "Epoch 372 training loss: 0.0047\n",
      "Epoch 373 training loss: 0.0047\n",
      "Epoch 374 training loss: 0.0047\n",
      "Epoch 375 training loss: 0.0046\n",
      "Epoch 376 training loss: 0.0046\n",
      "Epoch 377 training loss: 0.0046\n",
      "Epoch 378 training loss: 0.0045\n",
      "Epoch 379 training loss: 0.0045\n",
      "Epoch 380 training loss: 0.0045\n",
      "Epoch 381 training loss: 0.0044\n",
      "Epoch 380| Loss: 0.004439300857484341 | Test loss: 0.010327416472136974\n",
      "OrderedDict([('weights', tensor([0.6781])), ('bias', tensor([0.3092]))])\n",
      "Epoch 382 training loss: 0.0044\n",
      "Epoch 383 training loss: 0.0044\n",
      "Epoch 384 training loss: 0.0043\n",
      "Epoch 385 training loss: 0.0043\n",
      "Epoch 386 training loss: 0.0043\n",
      "Epoch 387 training loss: 0.0042\n",
      "Epoch 388 training loss: 0.0042\n",
      "Epoch 389 training loss: 0.0042\n",
      "Epoch 390 training loss: 0.0041\n",
      "Epoch 391 training loss: 0.0041\n",
      "Epoch 390| Loss: 0.004096209071576595 | Test loss: 0.0095000509172678\n",
      "OrderedDict([('weights', tensor([0.6798])), ('bias', tensor([0.3085]))])\n",
      "Epoch 392 training loss: 0.0041\n",
      "Epoch 393 training loss: 0.0040\n",
      "Epoch 394 training loss: 0.0040\n",
      "Epoch 395 training loss: 0.0040\n",
      "Epoch 396 training loss: 0.0039\n",
      "Epoch 397 training loss: 0.0039\n",
      "Epoch 398 training loss: 0.0039\n",
      "Epoch 399 training loss: 0.0038\n",
      "Epoch 400 training loss: 0.0038\n",
      "Epoch 401 training loss: 0.0038\n",
      "Epoch 400| Loss: 0.00375230610370636 | Test loss: 0.008672690019011497\n",
      "OrderedDict([('weights', tensor([0.6815])), ('bias', tensor([0.3078]))])\n",
      "Epoch 402 training loss: 0.0037\n",
      "Epoch 403 training loss: 0.0037\n",
      "Epoch 404 training loss: 0.0036\n",
      "Epoch 405 training loss: 0.0036\n",
      "Epoch 406 training loss: 0.0036\n",
      "Epoch 407 training loss: 0.0035\n",
      "Epoch 408 training loss: 0.0035\n",
      "Epoch 409 training loss: 0.0035\n",
      "Epoch 410 training loss: 0.0034\n",
      "Epoch 411 training loss: 0.0034\n",
      "Epoch 410| Loss: 0.003409049706533551 | Test loss: 0.007913952693343163\n",
      "OrderedDict([('weights', tensor([0.6832])), ('bias', tensor([0.3070]))])\n",
      "Epoch 412 training loss: 0.0034\n",
      "Epoch 413 training loss: 0.0033\n",
      "Epoch 414 training loss: 0.0033\n",
      "Epoch 415 training loss: 0.0033\n",
      "Epoch 416 training loss: 0.0032\n",
      "Epoch 417 training loss: 0.0032\n",
      "Epoch 418 training loss: 0.0032\n",
      "Epoch 419 training loss: 0.0031\n",
      "Epoch 420 training loss: 0.0031\n",
      "Epoch 421 training loss: 0.0031\n",
      "Epoch 420| Loss: 0.0030657723546028137 | Test loss: 0.007086604833602905\n",
      "OrderedDict([('weights', tensor([0.6849])), ('bias', tensor([0.3063]))])\n",
      "Epoch 422 training loss: 0.0030\n",
      "Epoch 423 training loss: 0.0030\n",
      "Epoch 424 training loss: 0.0030\n",
      "Epoch 425 training loss: 0.0029\n",
      "Epoch 426 training loss: 0.0029\n",
      "Epoch 427 training loss: 0.0029\n",
      "Epoch 428 training loss: 0.0028\n",
      "Epoch 429 training loss: 0.0028\n",
      "Epoch 430 training loss: 0.0028\n",
      "Epoch 431 training loss: 0.0027\n",
      "Epoch 430| Loss: 0.0027218698523938656 | Test loss: 0.006259244866669178\n",
      "OrderedDict([('weights', tensor([0.6866])), ('bias', tensor([0.3056]))])\n",
      "Epoch 432 training loss: 0.0027\n",
      "Epoch 433 training loss: 0.0027\n",
      "Epoch 434 training loss: 0.0026\n",
      "Epoch 435 training loss: 0.0026\n",
      "Epoch 436 training loss: 0.0026\n",
      "Epoch 437 training loss: 0.0025\n",
      "Epoch 438 training loss: 0.0025\n",
      "Epoch 439 training loss: 0.0024\n",
      "Epoch 440 training loss: 0.0024\n",
      "Epoch 441 training loss: 0.0024\n",
      "Epoch 440| Loss: 0.0023787878453731537 | Test loss: 0.005500525236129761\n",
      "OrderedDict([('weights', tensor([0.6883])), ('bias', tensor([0.3049]))])\n",
      "Epoch 442 training loss: 0.0023\n",
      "Epoch 443 training loss: 0.0023\n",
      "Epoch 444 training loss: 0.0023\n",
      "Epoch 445 training loss: 0.0022\n",
      "Epoch 446 training loss: 0.0022\n",
      "Epoch 447 training loss: 0.0022\n",
      "Epoch 448 training loss: 0.0021\n",
      "Epoch 449 training loss: 0.0021\n",
      "Epoch 450 training loss: 0.0021\n",
      "Epoch 451 training loss: 0.0020\n",
      "Epoch 450| Loss: 0.002035339130088687 | Test loss: 0.004673170857131481\n",
      "OrderedDict([('weights', tensor([0.6900])), ('bias', tensor([0.3042]))])\n",
      "Epoch 452 training loss: 0.0020\n",
      "Epoch 453 training loss: 0.0020\n",
      "Epoch 454 training loss: 0.0019\n",
      "Epoch 455 training loss: 0.0019\n",
      "Epoch 456 training loss: 0.0019\n",
      "Epoch 457 training loss: 0.0018\n",
      "Epoch 458 training loss: 0.0018\n",
      "Epoch 459 training loss: 0.0018\n",
      "Epoch 460 training loss: 0.0017\n",
      "Epoch 461 training loss: 0.0017\n",
      "Epoch 460| Loss: 0.0016914367442950606 | Test loss: 0.0038457990158349276\n",
      "OrderedDict([('weights', tensor([0.6918])), ('bias', tensor([0.3035]))])\n",
      "Epoch 462 training loss: 0.0017\n",
      "Epoch 463 training loss: 0.0016\n",
      "Epoch 464 training loss: 0.0016\n",
      "Epoch 465 training loss: 0.0016\n",
      "Epoch 466 training loss: 0.0015\n",
      "Epoch 467 training loss: 0.0015\n",
      "Epoch 468 training loss: 0.0015\n",
      "Epoch 469 training loss: 0.0014\n",
      "Epoch 470 training loss: 0.0014\n",
      "Epoch 471 training loss: 0.0013\n",
      "Epoch 470| Loss: 0.0013485305244103074 | Test loss: 0.0030870854388922453\n",
      "OrderedDict([('weights', tensor([0.6935])), ('bias', tensor([0.3027]))])\n",
      "Epoch 472 training loss: 0.0013\n",
      "Epoch 473 training loss: 0.0013\n",
      "Epoch 474 training loss: 0.0012\n",
      "Epoch 475 training loss: 0.0012\n",
      "Epoch 476 training loss: 0.0012\n",
      "Epoch 477 training loss: 0.0011\n",
      "Epoch 478 training loss: 0.0011\n",
      "Epoch 479 training loss: 0.0011\n",
      "Epoch 480 training loss: 0.0010\n",
      "Epoch 481 training loss: 0.0010\n",
      "Epoch 480| Loss: 0.0010049022966995835 | Test loss: 0.002259713364765048\n",
      "OrderedDict([('weights', tensor([0.6952])), ('bias', tensor([0.3020]))])\n",
      "Epoch 482 training loss: 0.0010\n",
      "Epoch 483 training loss: 0.0009\n",
      "Epoch 484 training loss: 0.0009\n",
      "Epoch 485 training loss: 0.0009\n",
      "Epoch 486 training loss: 0.0008\n",
      "Epoch 487 training loss: 0.0008\n",
      "Epoch 488 training loss: 0.0008\n",
      "Epoch 489 training loss: 0.0007\n",
      "Epoch 490 training loss: 0.0007\n",
      "Epoch 491 training loss: 0.0007\n",
      "Epoch 490| Loss: 0.000661638390738517 | Test loss: 0.0014667033683508635\n",
      "OrderedDict([('weights', tensor([0.6969])), ('bias', tensor([0.3013]))])\n",
      "Epoch 492 training loss: 0.0006\n",
      "Epoch 493 training loss: 0.0006\n",
      "Epoch 494 training loss: 0.0006\n",
      "Epoch 495 training loss: 0.0005\n",
      "Epoch 496 training loss: 0.0005\n",
      "Epoch 497 training loss: 0.0005\n",
      "Epoch 498 training loss: 0.0004\n",
      "Epoch 499 training loss: 0.0004\n",
      "Epoch 500 training loss: 0.0004\n",
      "Epoch 501 training loss: 0.0003\n",
      "Epoch 500| Loss: 0.0003177322505507618 | Test loss: 0.0006393313524313271\n",
      "OrderedDict([('weights', tensor([0.6986])), ('bias', tensor([0.3006]))])\n",
      "Epoch 502 training loss: 0.0003\n",
      "Epoch 503 training loss: 0.0002\n",
      "Epoch 504 training loss: 0.0002\n",
      "Epoch 505 training loss: 0.0002\n",
      "Epoch 506 training loss: 0.0002\n",
      "Epoch 507 training loss: 0.0002\n",
      "Epoch 508 training loss: 0.0007\n",
      "Epoch 509 training loss: 0.0004\n",
      "Epoch 510 training loss: 0.0007\n",
      "Epoch 511 training loss: 0.0004\n",
      "Epoch 510| Loss: 0.0004444979131221771 | Test loss: 0.0005780101055279374\n",
      "OrderedDict([('weights', tensor([0.6997])), ('bias', tensor([0.3008]))])\n",
      "Epoch 512 training loss: 0.0007\n",
      "Epoch 513 training loss: 0.0004\n",
      "Epoch 514 training loss: 0.0007\n",
      "Epoch 515 training loss: 0.0004\n",
      "Epoch 516 training loss: 0.0007\n",
      "Epoch 517 training loss: 0.0004\n",
      "Epoch 518 training loss: 0.0007\n",
      "Epoch 519 training loss: 0.0004\n",
      "Epoch 520 training loss: 0.0007\n",
      "Epoch 521 training loss: 0.0004\n",
      "Epoch 520| Loss: 0.0004444979131221771 | Test loss: 0.0005780101055279374\n",
      "OrderedDict([('weights', tensor([0.6997])), ('bias', tensor([0.3008]))])\n",
      "Epoch 522 training loss: 0.0007\n",
      "Epoch 523 training loss: 0.0004\n",
      "Epoch 524 training loss: 0.0007\n",
      "Epoch 525 training loss: 0.0004\n",
      "Epoch 526 training loss: 0.0007\n",
      "Epoch 527 training loss: 0.0004\n",
      "Epoch 528 training loss: 0.0007\n",
      "Epoch 529 training loss: 0.0004\n",
      "Epoch 530 training loss: 0.0007\n",
      "Epoch 531 training loss: 0.0004\n",
      "Epoch 530| Loss: 0.0004444979131221771 | Test loss: 0.0005780101055279374\n",
      "OrderedDict([('weights', tensor([0.6997])), ('bias', tensor([0.3008]))])\n",
      "Epoch 532 training loss: 0.0007\n",
      "Epoch 533 training loss: 0.0004\n",
      "Epoch 534 training loss: 0.0007\n",
      "Epoch 535 training loss: 0.0004\n",
      "Epoch 536 training loss: 0.0007\n",
      "Epoch 537 training loss: 0.0004\n",
      "Epoch 538 training loss: 0.0007\n",
      "Epoch 539 training loss: 0.0004\n",
      "Epoch 540 training loss: 0.0007\n",
      "Epoch 541 training loss: 0.0004\n",
      "Epoch 540| Loss: 0.0004444979131221771 | Test loss: 0.0005780101055279374\n",
      "OrderedDict([('weights', tensor([0.6997])), ('bias', tensor([0.3008]))])\n",
      "Epoch 542 training loss: 0.0007\n",
      "Epoch 543 training loss: 0.0004\n",
      "Epoch 544 training loss: 0.0007\n",
      "Epoch 545 training loss: 0.0004\n",
      "Epoch 546 training loss: 0.0007\n",
      "Epoch 547 training loss: 0.0004\n",
      "Epoch 548 training loss: 0.0007\n",
      "Epoch 549 training loss: 0.0004\n",
      "Epoch 550 training loss: 0.0007\n",
      "Epoch 551 training loss: 0.0004\n",
      "Epoch 550| Loss: 0.0004444979131221771 | Test loss: 0.0005780101055279374\n",
      "OrderedDict([('weights', tensor([0.6997])), ('bias', tensor([0.3008]))])\n",
      "Epoch 552 training loss: 0.0007\n",
      "Epoch 553 training loss: 0.0004\n",
      "Epoch 554 training loss: 0.0007\n",
      "Epoch 555 training loss: 0.0004\n",
      "Epoch 556 training loss: 0.0007\n",
      "Epoch 557 training loss: 0.0004\n",
      "Epoch 558 training loss: 0.0007\n",
      "Epoch 559 training loss: 0.0004\n",
      "Epoch 560 training loss: 0.0007\n",
      "Epoch 561 training loss: 0.0004\n",
      "Epoch 560| Loss: 0.0004444979131221771 | Test loss: 0.0005780101055279374\n",
      "OrderedDict([('weights', tensor([0.6997])), ('bias', tensor([0.3008]))])\n",
      "Epoch 562 training loss: 0.0007\n",
      "Epoch 563 training loss: 0.0004\n",
      "Epoch 564 training loss: 0.0007\n",
      "Epoch 565 training loss: 0.0004\n",
      "Epoch 566 training loss: 0.0007\n",
      "Epoch 567 training loss: 0.0004\n",
      "Epoch 568 training loss: 0.0007\n",
      "Epoch 569 training loss: 0.0004\n",
      "Epoch 570 training loss: 0.0007\n",
      "Epoch 571 training loss: 0.0004\n",
      "Epoch 570| Loss: 0.0004444979131221771 | Test loss: 0.0005780101055279374\n",
      "OrderedDict([('weights', tensor([0.6997])), ('bias', tensor([0.3008]))])\n",
      "Epoch 572 training loss: 0.0007\n",
      "Epoch 573 training loss: 0.0004\n",
      "Epoch 574 training loss: 0.0007\n",
      "Epoch 575 training loss: 0.0004\n",
      "Epoch 576 training loss: 0.0007\n",
      "Epoch 577 training loss: 0.0004\n",
      "Epoch 578 training loss: 0.0007\n",
      "Epoch 579 training loss: 0.0004\n",
      "Epoch 580 training loss: 0.0007\n",
      "Epoch 581 training loss: 0.0004\n",
      "Epoch 580| Loss: 0.0004444979131221771 | Test loss: 0.0005780101055279374\n",
      "OrderedDict([('weights', tensor([0.6997])), ('bias', tensor([0.3008]))])\n",
      "Epoch 582 training loss: 0.0007\n",
      "Epoch 583 training loss: 0.0004\n",
      "Epoch 584 training loss: 0.0007\n",
      "Epoch 585 training loss: 0.0004\n",
      "Epoch 586 training loss: 0.0007\n",
      "Epoch 587 training loss: 0.0004\n",
      "Epoch 588 training loss: 0.0007\n",
      "Epoch 589 training loss: 0.0004\n",
      "Epoch 590 training loss: 0.0007\n",
      "Epoch 591 training loss: 0.0004\n",
      "Epoch 590| Loss: 0.0004444979131221771 | Test loss: 0.0005780101055279374\n",
      "OrderedDict([('weights', tensor([0.6997])), ('bias', tensor([0.3008]))])\n",
      "Epoch 592 training loss: 0.0007\n",
      "Epoch 593 training loss: 0.0004\n",
      "Epoch 594 training loss: 0.0007\n",
      "Epoch 595 training loss: 0.0004\n",
      "Epoch 596 training loss: 0.0007\n",
      "Epoch 597 training loss: 0.0004\n",
      "Epoch 598 training loss: 0.0007\n",
      "Epoch 599 training loss: 0.0004\n",
      "Epoch 600 training loss: 0.0007\n",
      "Epoch 601 training loss: 0.0004\n",
      "Epoch 600| Loss: 0.0004444979131221771 | Test loss: 0.0005780101055279374\n",
      "OrderedDict([('weights', tensor([0.6997])), ('bias', tensor([0.3008]))])\n",
      "Epoch 602 training loss: 0.0007\n",
      "Epoch 603 training loss: 0.0004\n",
      "Epoch 604 training loss: 0.0007\n",
      "Epoch 605 training loss: 0.0004\n",
      "Epoch 606 training loss: 0.0007\n",
      "Epoch 607 training loss: 0.0004\n",
      "Epoch 608 training loss: 0.0007\n",
      "Epoch 609 training loss: 0.0004\n",
      "Epoch 610 training loss: 0.0007\n",
      "Epoch 611 training loss: 0.0004\n",
      "Epoch 610| Loss: 0.0004444979131221771 | Test loss: 0.0005780101055279374\n",
      "OrderedDict([('weights', tensor([0.6997])), ('bias', tensor([0.3008]))])\n",
      "Epoch 612 training loss: 0.0007\n",
      "Epoch 613 training loss: 0.0004\n",
      "Epoch 614 training loss: 0.0007\n",
      "Epoch 615 training loss: 0.0004\n",
      "Epoch 616 training loss: 0.0007\n",
      "Epoch 617 training loss: 0.0004\n",
      "Epoch 618 training loss: 0.0007\n",
      "Epoch 619 training loss: 0.0004\n",
      "Epoch 620 training loss: 0.0007\n",
      "Epoch 621 training loss: 0.0004\n",
      "Epoch 620| Loss: 0.0004444979131221771 | Test loss: 0.0005780101055279374\n",
      "OrderedDict([('weights', tensor([0.6997])), ('bias', tensor([0.3008]))])\n",
      "Epoch 622 training loss: 0.0007\n",
      "Epoch 623 training loss: 0.0004\n",
      "Epoch 624 training loss: 0.0007\n",
      "Epoch 625 training loss: 0.0004\n",
      "Epoch 626 training loss: 0.0007\n",
      "Epoch 627 training loss: 0.0004\n",
      "Epoch 628 training loss: 0.0007\n",
      "Epoch 629 training loss: 0.0004\n",
      "Epoch 630 training loss: 0.0007\n",
      "Epoch 631 training loss: 0.0004\n",
      "Epoch 630| Loss: 0.0004444979131221771 | Test loss: 0.0005780101055279374\n",
      "OrderedDict([('weights', tensor([0.6997])), ('bias', tensor([0.3008]))])\n",
      "Epoch 632 training loss: 0.0007\n",
      "Epoch 633 training loss: 0.0004\n",
      "Epoch 634 training loss: 0.0007\n",
      "Epoch 635 training loss: 0.0004\n",
      "Epoch 636 training loss: 0.0007\n",
      "Epoch 637 training loss: 0.0004\n",
      "Epoch 638 training loss: 0.0007\n",
      "Epoch 639 training loss: 0.0004\n",
      "Epoch 640 training loss: 0.0007\n",
      "Epoch 641 training loss: 0.0004\n",
      "Epoch 640| Loss: 0.0004444979131221771 | Test loss: 0.0005780101055279374\n",
      "OrderedDict([('weights', tensor([0.6997])), ('bias', tensor([0.3008]))])\n",
      "Epoch 642 training loss: 0.0007\n",
      "Epoch 643 training loss: 0.0004\n",
      "Epoch 644 training loss: 0.0007\n",
      "Epoch 645 training loss: 0.0004\n",
      "Epoch 646 training loss: 0.0007\n",
      "Epoch 647 training loss: 0.0004\n",
      "Epoch 648 training loss: 0.0007\n",
      "Epoch 649 training loss: 0.0004\n",
      "Epoch 650 training loss: 0.0007\n",
      "Epoch 651 training loss: 0.0004\n",
      "Epoch 650| Loss: 0.0004444979131221771 | Test loss: 0.0005780101055279374\n",
      "OrderedDict([('weights', tensor([0.6997])), ('bias', tensor([0.3008]))])\n",
      "Epoch 652 training loss: 0.0007\n",
      "Epoch 653 training loss: 0.0004\n",
      "Epoch 654 training loss: 0.0007\n",
      "Epoch 655 training loss: 0.0004\n",
      "Epoch 656 training loss: 0.0007\n",
      "Epoch 657 training loss: 0.0004\n",
      "Epoch 658 training loss: 0.0007\n",
      "Epoch 659 training loss: 0.0004\n",
      "Epoch 660 training loss: 0.0007\n",
      "Epoch 661 training loss: 0.0004\n",
      "Epoch 660| Loss: 0.0004444979131221771 | Test loss: 0.0005780101055279374\n",
      "OrderedDict([('weights', tensor([0.6997])), ('bias', tensor([0.3008]))])\n",
      "Epoch 662 training loss: 0.0007\n",
      "Epoch 663 training loss: 0.0004\n",
      "Epoch 664 training loss: 0.0007\n",
      "Epoch 665 training loss: 0.0004\n",
      "Epoch 666 training loss: 0.0007\n",
      "Epoch 667 training loss: 0.0004\n",
      "Epoch 668 training loss: 0.0007\n",
      "Epoch 669 training loss: 0.0004\n",
      "Epoch 670 training loss: 0.0007\n",
      "Epoch 671 training loss: 0.0004\n",
      "Epoch 670| Loss: 0.0004444979131221771 | Test loss: 0.0005780101055279374\n",
      "OrderedDict([('weights', tensor([0.6997])), ('bias', tensor([0.3008]))])\n",
      "Epoch 672 training loss: 0.0007\n",
      "Epoch 673 training loss: 0.0004\n",
      "Epoch 674 training loss: 0.0007\n",
      "Epoch 675 training loss: 0.0004\n",
      "Epoch 676 training loss: 0.0007\n",
      "Epoch 677 training loss: 0.0004\n",
      "Epoch 678 training loss: 0.0007\n",
      "Epoch 679 training loss: 0.0004\n",
      "Epoch 680 training loss: 0.0007\n",
      "Epoch 681 training loss: 0.0004\n",
      "Epoch 680| Loss: 0.0004444979131221771 | Test loss: 0.0005780101055279374\n",
      "OrderedDict([('weights', tensor([0.6997])), ('bias', tensor([0.3008]))])\n",
      "Epoch 682 training loss: 0.0007\n",
      "Epoch 683 training loss: 0.0004\n",
      "Epoch 684 training loss: 0.0007\n",
      "Epoch 685 training loss: 0.0004\n",
      "Epoch 686 training loss: 0.0007\n",
      "Epoch 687 training loss: 0.0004\n",
      "Epoch 688 training loss: 0.0007\n",
      "Epoch 689 training loss: 0.0004\n",
      "Epoch 690 training loss: 0.0007\n",
      "Epoch 691 training loss: 0.0004\n",
      "Epoch 690| Loss: 0.0004444979131221771 | Test loss: 0.0005780101055279374\n",
      "OrderedDict([('weights', tensor([0.6997])), ('bias', tensor([0.3008]))])\n",
      "Epoch 692 training loss: 0.0007\n",
      "Epoch 693 training loss: 0.0004\n",
      "Epoch 694 training loss: 0.0007\n",
      "Epoch 695 training loss: 0.0004\n",
      "Epoch 696 training loss: 0.0007\n",
      "Epoch 697 training loss: 0.0004\n",
      "Epoch 698 training loss: 0.0007\n",
      "Epoch 699 training loss: 0.0004\n",
      "Epoch 700 training loss: 0.0007\n",
      "Epoch 701 training loss: 0.0004\n",
      "Epoch 700| Loss: 0.0004444979131221771 | Test loss: 0.0005780101055279374\n",
      "OrderedDict([('weights', tensor([0.6997])), ('bias', tensor([0.3008]))])\n",
      "Epoch 702 training loss: 0.0007\n",
      "Epoch 703 training loss: 0.0004\n",
      "Epoch 704 training loss: 0.0007\n",
      "Epoch 705 training loss: 0.0004\n",
      "Epoch 706 training loss: 0.0007\n",
      "Epoch 707 training loss: 0.0004\n",
      "Epoch 708 training loss: 0.0007\n",
      "Epoch 709 training loss: 0.0004\n",
      "Epoch 710 training loss: 0.0007\n",
      "Epoch 711 training loss: 0.0004\n",
      "Epoch 710| Loss: 0.0004444979131221771 | Test loss: 0.0005780101055279374\n",
      "OrderedDict([('weights', tensor([0.6997])), ('bias', tensor([0.3008]))])\n",
      "Epoch 712 training loss: 0.0007\n",
      "Epoch 713 training loss: 0.0004\n",
      "Epoch 714 training loss: 0.0007\n",
      "Epoch 715 training loss: 0.0004\n",
      "Epoch 716 training loss: 0.0007\n",
      "Epoch 717 training loss: 0.0004\n",
      "Epoch 718 training loss: 0.0007\n",
      "Epoch 719 training loss: 0.0004\n",
      "Epoch 720 training loss: 0.0007\n",
      "Epoch 721 training loss: 0.0004\n",
      "Epoch 720| Loss: 0.0004444979131221771 | Test loss: 0.0005780101055279374\n",
      "OrderedDict([('weights', tensor([0.6997])), ('bias', tensor([0.3008]))])\n",
      "Epoch 722 training loss: 0.0007\n",
      "Epoch 723 training loss: 0.0004\n",
      "Epoch 724 training loss: 0.0007\n",
      "Epoch 725 training loss: 0.0004\n",
      "Epoch 726 training loss: 0.0007\n",
      "Epoch 727 training loss: 0.0004\n",
      "Epoch 728 training loss: 0.0007\n",
      "Epoch 729 training loss: 0.0004\n",
      "Epoch 730 training loss: 0.0007\n",
      "Epoch 731 training loss: 0.0004\n",
      "Epoch 730| Loss: 0.0004444979131221771 | Test loss: 0.0005780101055279374\n",
      "OrderedDict([('weights', tensor([0.6997])), ('bias', tensor([0.3008]))])\n",
      "Epoch 732 training loss: 0.0007\n",
      "Epoch 733 training loss: 0.0004\n",
      "Epoch 734 training loss: 0.0007\n",
      "Epoch 735 training loss: 0.0004\n",
      "Epoch 736 training loss: 0.0007\n",
      "Epoch 737 training loss: 0.0004\n",
      "Epoch 738 training loss: 0.0007\n",
      "Epoch 739 training loss: 0.0004\n",
      "Epoch 740 training loss: 0.0007\n",
      "Epoch 741 training loss: 0.0004\n",
      "Epoch 740| Loss: 0.0004444979131221771 | Test loss: 0.0005780101055279374\n",
      "OrderedDict([('weights', tensor([0.6997])), ('bias', tensor([0.3008]))])\n",
      "Epoch 742 training loss: 0.0007\n",
      "Epoch 743 training loss: 0.0004\n",
      "Epoch 744 training loss: 0.0007\n",
      "Epoch 745 training loss: 0.0004\n",
      "Epoch 746 training loss: 0.0007\n",
      "Epoch 747 training loss: 0.0004\n",
      "Epoch 748 training loss: 0.0007\n",
      "Epoch 749 training loss: 0.0004\n",
      "Epoch 750 training loss: 0.0007\n",
      "Epoch 751 training loss: 0.0004\n",
      "Epoch 750| Loss: 0.0004444979131221771 | Test loss: 0.0005780101055279374\n",
      "OrderedDict([('weights', tensor([0.6997])), ('bias', tensor([0.3008]))])\n",
      "Epoch 752 training loss: 0.0007\n",
      "Epoch 753 training loss: 0.0004\n",
      "Epoch 754 training loss: 0.0007\n",
      "Epoch 755 training loss: 0.0004\n",
      "Epoch 756 training loss: 0.0007\n",
      "Epoch 757 training loss: 0.0004\n",
      "Epoch 758 training loss: 0.0007\n",
      "Epoch 759 training loss: 0.0004\n",
      "Epoch 760 training loss: 0.0007\n",
      "Epoch 761 training loss: 0.0004\n",
      "Epoch 760| Loss: 0.0004444979131221771 | Test loss: 0.0005780101055279374\n",
      "OrderedDict([('weights', tensor([0.6997])), ('bias', tensor([0.3008]))])\n",
      "Epoch 762 training loss: 0.0007\n",
      "Epoch 763 training loss: 0.0004\n",
      "Epoch 764 training loss: 0.0007\n",
      "Epoch 765 training loss: 0.0004\n",
      "Epoch 766 training loss: 0.0007\n",
      "Epoch 767 training loss: 0.0004\n",
      "Epoch 768 training loss: 0.0007\n",
      "Epoch 769 training loss: 0.0004\n",
      "Epoch 770 training loss: 0.0007\n",
      "Epoch 771 training loss: 0.0004\n",
      "Epoch 770| Loss: 0.0004444979131221771 | Test loss: 0.0005780101055279374\n",
      "OrderedDict([('weights', tensor([0.6997])), ('bias', tensor([0.3008]))])\n",
      "Epoch 772 training loss: 0.0007\n",
      "Epoch 773 training loss: 0.0004\n",
      "Epoch 774 training loss: 0.0007\n",
      "Epoch 775 training loss: 0.0004\n",
      "Epoch 776 training loss: 0.0007\n",
      "Epoch 777 training loss: 0.0004\n",
      "Epoch 778 training loss: 0.0007\n",
      "Epoch 779 training loss: 0.0004\n",
      "Epoch 780 training loss: 0.0007\n",
      "Epoch 781 training loss: 0.0004\n",
      "Epoch 780| Loss: 0.0004444979131221771 | Test loss: 0.0005780101055279374\n",
      "OrderedDict([('weights', tensor([0.6997])), ('bias', tensor([0.3008]))])\n",
      "Epoch 782 training loss: 0.0007\n",
      "Epoch 783 training loss: 0.0004\n",
      "Epoch 784 training loss: 0.0007\n",
      "Epoch 785 training loss: 0.0004\n",
      "Epoch 786 training loss: 0.0007\n",
      "Epoch 787 training loss: 0.0004\n",
      "Epoch 788 training loss: 0.0007\n",
      "Epoch 789 training loss: 0.0004\n",
      "Epoch 790 training loss: 0.0007\n",
      "Epoch 791 training loss: 0.0004\n",
      "Epoch 790| Loss: 0.0004444979131221771 | Test loss: 0.0005780101055279374\n",
      "OrderedDict([('weights', tensor([0.6997])), ('bias', tensor([0.3008]))])\n",
      "Epoch 792 training loss: 0.0007\n",
      "Epoch 793 training loss: 0.0004\n",
      "Epoch 794 training loss: 0.0007\n",
      "Epoch 795 training loss: 0.0004\n",
      "Epoch 796 training loss: 0.0007\n",
      "Epoch 797 training loss: 0.0004\n",
      "Epoch 798 training loss: 0.0007\n",
      "Epoch 799 training loss: 0.0004\n",
      "Epoch 800 training loss: 0.0007\n",
      "Epoch 801 training loss: 0.0004\n",
      "Epoch 800| Loss: 0.0004444979131221771 | Test loss: 0.0005780101055279374\n",
      "OrderedDict([('weights', tensor([0.6997])), ('bias', tensor([0.3008]))])\n",
      "Epoch 802 training loss: 0.0007\n",
      "Epoch 803 training loss: 0.0004\n",
      "Epoch 804 training loss: 0.0007\n",
      "Epoch 805 training loss: 0.0004\n",
      "Epoch 806 training loss: 0.0007\n",
      "Epoch 807 training loss: 0.0004\n",
      "Epoch 808 training loss: 0.0007\n",
      "Epoch 809 training loss: 0.0004\n",
      "Epoch 810 training loss: 0.0007\n",
      "Epoch 811 training loss: 0.0004\n",
      "Epoch 810| Loss: 0.0004444979131221771 | Test loss: 0.0005780101055279374\n",
      "OrderedDict([('weights', tensor([0.6997])), ('bias', tensor([0.3008]))])\n",
      "Epoch 812 training loss: 0.0007\n",
      "Epoch 813 training loss: 0.0004\n",
      "Epoch 814 training loss: 0.0007\n",
      "Epoch 815 training loss: 0.0004\n",
      "Epoch 816 training loss: 0.0007\n",
      "Epoch 817 training loss: 0.0004\n",
      "Epoch 818 training loss: 0.0007\n",
      "Epoch 819 training loss: 0.0004\n",
      "Epoch 820 training loss: 0.0007\n",
      "Epoch 821 training loss: 0.0004\n",
      "Epoch 820| Loss: 0.0004444979131221771 | Test loss: 0.0005780101055279374\n",
      "OrderedDict([('weights', tensor([0.6997])), ('bias', tensor([0.3008]))])\n",
      "Epoch 822 training loss: 0.0007\n",
      "Epoch 823 training loss: 0.0004\n",
      "Epoch 824 training loss: 0.0007\n",
      "Epoch 825 training loss: 0.0004\n",
      "Epoch 826 training loss: 0.0007\n",
      "Epoch 827 training loss: 0.0004\n",
      "Epoch 828 training loss: 0.0007\n",
      "Epoch 829 training loss: 0.0004\n",
      "Epoch 830 training loss: 0.0007\n",
      "Epoch 831 training loss: 0.0004\n",
      "Epoch 830| Loss: 0.0004444979131221771 | Test loss: 0.0005780101055279374\n",
      "OrderedDict([('weights', tensor([0.6997])), ('bias', tensor([0.3008]))])\n",
      "Epoch 832 training loss: 0.0007\n",
      "Epoch 833 training loss: 0.0004\n",
      "Epoch 834 training loss: 0.0007\n",
      "Epoch 835 training loss: 0.0004\n",
      "Epoch 836 training loss: 0.0007\n",
      "Epoch 837 training loss: 0.0004\n",
      "Epoch 838 training loss: 0.0007\n",
      "Epoch 839 training loss: 0.0004\n",
      "Epoch 840 training loss: 0.0007\n",
      "Epoch 841 training loss: 0.0004\n",
      "Epoch 840| Loss: 0.0004444979131221771 | Test loss: 0.0005780101055279374\n",
      "OrderedDict([('weights', tensor([0.6997])), ('bias', tensor([0.3008]))])\n",
      "Epoch 842 training loss: 0.0007\n",
      "Epoch 843 training loss: 0.0004\n",
      "Epoch 844 training loss: 0.0007\n",
      "Epoch 845 training loss: 0.0004\n",
      "Epoch 846 training loss: 0.0007\n",
      "Epoch 847 training loss: 0.0004\n",
      "Epoch 848 training loss: 0.0007\n",
      "Epoch 849 training loss: 0.0004\n",
      "Epoch 850 training loss: 0.0007\n",
      "Epoch 851 training loss: 0.0004\n",
      "Epoch 850| Loss: 0.0004444979131221771 | Test loss: 0.0005780101055279374\n",
      "OrderedDict([('weights', tensor([0.6997])), ('bias', tensor([0.3008]))])\n",
      "Epoch 852 training loss: 0.0007\n",
      "Epoch 853 training loss: 0.0004\n",
      "Epoch 854 training loss: 0.0007\n",
      "Epoch 855 training loss: 0.0004\n",
      "Epoch 856 training loss: 0.0007\n",
      "Epoch 857 training loss: 0.0004\n",
      "Epoch 858 training loss: 0.0007\n",
      "Epoch 859 training loss: 0.0004\n",
      "Epoch 860 training loss: 0.0007\n",
      "Epoch 861 training loss: 0.0004\n",
      "Epoch 860| Loss: 0.0004444979131221771 | Test loss: 0.0005780101055279374\n",
      "OrderedDict([('weights', tensor([0.6997])), ('bias', tensor([0.3008]))])\n",
      "Epoch 862 training loss: 0.0007\n",
      "Epoch 863 training loss: 0.0004\n",
      "Epoch 864 training loss: 0.0007\n",
      "Epoch 865 training loss: 0.0004\n",
      "Epoch 866 training loss: 0.0007\n",
      "Epoch 867 training loss: 0.0004\n",
      "Epoch 868 training loss: 0.0007\n",
      "Epoch 869 training loss: 0.0004\n",
      "Epoch 870 training loss: 0.0007\n",
      "Epoch 871 training loss: 0.0004\n",
      "Epoch 870| Loss: 0.0004444979131221771 | Test loss: 0.0005780101055279374\n",
      "OrderedDict([('weights', tensor([0.6997])), ('bias', tensor([0.3008]))])\n",
      "Epoch 872 training loss: 0.0007\n",
      "Epoch 873 training loss: 0.0004\n",
      "Epoch 874 training loss: 0.0007\n",
      "Epoch 875 training loss: 0.0004\n",
      "Epoch 876 training loss: 0.0007\n",
      "Epoch 877 training loss: 0.0004\n",
      "Epoch 878 training loss: 0.0007\n",
      "Epoch 879 training loss: 0.0004\n",
      "Epoch 880 training loss: 0.0007\n",
      "Epoch 881 training loss: 0.0004\n",
      "Epoch 880| Loss: 0.0004444979131221771 | Test loss: 0.0005780101055279374\n",
      "OrderedDict([('weights', tensor([0.6997])), ('bias', tensor([0.3008]))])\n",
      "Epoch 882 training loss: 0.0007\n",
      "Epoch 883 training loss: 0.0004\n",
      "Epoch 884 training loss: 0.0007\n",
      "Epoch 885 training loss: 0.0004\n",
      "Epoch 886 training loss: 0.0007\n",
      "Epoch 887 training loss: 0.0004\n",
      "Epoch 888 training loss: 0.0007\n",
      "Epoch 889 training loss: 0.0004\n",
      "Epoch 890 training loss: 0.0007\n",
      "Epoch 891 training loss: 0.0004\n",
      "Epoch 890| Loss: 0.0004444979131221771 | Test loss: 0.0005780101055279374\n",
      "OrderedDict([('weights', tensor([0.6997])), ('bias', tensor([0.3008]))])\n",
      "Epoch 892 training loss: 0.0007\n",
      "Epoch 893 training loss: 0.0004\n",
      "Epoch 894 training loss: 0.0007\n",
      "Epoch 895 training loss: 0.0004\n",
      "Epoch 896 training loss: 0.0007\n",
      "Epoch 897 training loss: 0.0004\n",
      "Epoch 898 training loss: 0.0007\n",
      "Epoch 899 training loss: 0.0004\n",
      "Epoch 900 training loss: 0.0007\n",
      "Epoch 901 training loss: 0.0004\n",
      "Epoch 900| Loss: 0.0004444979131221771 | Test loss: 0.0005780101055279374\n",
      "OrderedDict([('weights', tensor([0.6997])), ('bias', tensor([0.3008]))])\n",
      "Epoch 902 training loss: 0.0007\n",
      "Epoch 903 training loss: 0.0004\n",
      "Epoch 904 training loss: 0.0007\n",
      "Epoch 905 training loss: 0.0004\n",
      "Epoch 906 training loss: 0.0007\n",
      "Epoch 907 training loss: 0.0004\n",
      "Epoch 908 training loss: 0.0007\n",
      "Epoch 909 training loss: 0.0004\n",
      "Epoch 910 training loss: 0.0007\n",
      "Epoch 911 training loss: 0.0004\n",
      "Epoch 910| Loss: 0.0004444979131221771 | Test loss: 0.0005780101055279374\n",
      "OrderedDict([('weights', tensor([0.6997])), ('bias', tensor([0.3008]))])\n",
      "Epoch 912 training loss: 0.0007\n",
      "Epoch 913 training loss: 0.0004\n",
      "Epoch 914 training loss: 0.0007\n",
      "Epoch 915 training loss: 0.0004\n",
      "Epoch 916 training loss: 0.0007\n",
      "Epoch 917 training loss: 0.0004\n",
      "Epoch 918 training loss: 0.0007\n",
      "Epoch 919 training loss: 0.0004\n",
      "Epoch 920 training loss: 0.0007\n",
      "Epoch 921 training loss: 0.0004\n",
      "Epoch 920| Loss: 0.0004444979131221771 | Test loss: 0.0005780101055279374\n",
      "OrderedDict([('weights', tensor([0.6997])), ('bias', tensor([0.3008]))])\n",
      "Epoch 922 training loss: 0.0007\n",
      "Epoch 923 training loss: 0.0004\n",
      "Epoch 924 training loss: 0.0007\n",
      "Epoch 925 training loss: 0.0004\n",
      "Epoch 926 training loss: 0.0007\n",
      "Epoch 927 training loss: 0.0004\n",
      "Epoch 928 training loss: 0.0007\n",
      "Epoch 929 training loss: 0.0004\n",
      "Epoch 930 training loss: 0.0007\n",
      "Epoch 931 training loss: 0.0004\n",
      "Epoch 930| Loss: 0.0004444979131221771 | Test loss: 0.0005780101055279374\n",
      "OrderedDict([('weights', tensor([0.6997])), ('bias', tensor([0.3008]))])\n",
      "Epoch 932 training loss: 0.0007\n",
      "Epoch 933 training loss: 0.0004\n",
      "Epoch 934 training loss: 0.0007\n",
      "Epoch 935 training loss: 0.0004\n",
      "Epoch 936 training loss: 0.0007\n",
      "Epoch 937 training loss: 0.0004\n",
      "Epoch 938 training loss: 0.0007\n",
      "Epoch 939 training loss: 0.0004\n",
      "Epoch 940 training loss: 0.0007\n",
      "Epoch 941 training loss: 0.0004\n",
      "Epoch 940| Loss: 0.0004444979131221771 | Test loss: 0.0005780101055279374\n",
      "OrderedDict([('weights', tensor([0.6997])), ('bias', tensor([0.3008]))])\n",
      "Epoch 942 training loss: 0.0007\n",
      "Epoch 943 training loss: 0.0004\n",
      "Epoch 944 training loss: 0.0007\n",
      "Epoch 945 training loss: 0.0004\n",
      "Epoch 946 training loss: 0.0007\n",
      "Epoch 947 training loss: 0.0004\n",
      "Epoch 948 training loss: 0.0007\n",
      "Epoch 949 training loss: 0.0004\n",
      "Epoch 950 training loss: 0.0007\n",
      "Epoch 951 training loss: 0.0004\n",
      "Epoch 950| Loss: 0.0004444979131221771 | Test loss: 0.0005780101055279374\n",
      "OrderedDict([('weights', tensor([0.6997])), ('bias', tensor([0.3008]))])\n",
      "Epoch 952 training loss: 0.0007\n",
      "Epoch 953 training loss: 0.0004\n",
      "Epoch 954 training loss: 0.0007\n",
      "Epoch 955 training loss: 0.0004\n",
      "Epoch 956 training loss: 0.0007\n",
      "Epoch 957 training loss: 0.0004\n",
      "Epoch 958 training loss: 0.0007\n",
      "Epoch 959 training loss: 0.0004\n",
      "Epoch 960 training loss: 0.0007\n",
      "Epoch 961 training loss: 0.0004\n",
      "Epoch 960| Loss: 0.0004444979131221771 | Test loss: 0.0005780101055279374\n",
      "OrderedDict([('weights', tensor([0.6997])), ('bias', tensor([0.3008]))])\n",
      "Epoch 962 training loss: 0.0007\n",
      "Epoch 963 training loss: 0.0004\n",
      "Epoch 964 training loss: 0.0007\n",
      "Epoch 965 training loss: 0.0004\n",
      "Epoch 966 training loss: 0.0007\n",
      "Epoch 967 training loss: 0.0004\n",
      "Epoch 968 training loss: 0.0007\n",
      "Epoch 969 training loss: 0.0004\n",
      "Epoch 970 training loss: 0.0007\n",
      "Epoch 971 training loss: 0.0004\n",
      "Epoch 970| Loss: 0.0004444979131221771 | Test loss: 0.0005780101055279374\n",
      "OrderedDict([('weights', tensor([0.6997])), ('bias', tensor([0.3008]))])\n",
      "Epoch 972 training loss: 0.0007\n",
      "Epoch 973 training loss: 0.0004\n",
      "Epoch 974 training loss: 0.0007\n",
      "Epoch 975 training loss: 0.0004\n",
      "Epoch 976 training loss: 0.0007\n",
      "Epoch 977 training loss: 0.0004\n",
      "Epoch 978 training loss: 0.0007\n",
      "Epoch 979 training loss: 0.0004\n",
      "Epoch 980 training loss: 0.0007\n",
      "Epoch 981 training loss: 0.0004\n",
      "Epoch 980| Loss: 0.0004444979131221771 | Test loss: 0.0005780101055279374\n",
      "OrderedDict([('weights', tensor([0.6997])), ('bias', tensor([0.3008]))])\n",
      "Epoch 982 training loss: 0.0007\n",
      "Epoch 983 training loss: 0.0004\n",
      "Epoch 984 training loss: 0.0007\n",
      "Epoch 985 training loss: 0.0004\n",
      "Epoch 986 training loss: 0.0007\n",
      "Epoch 987 training loss: 0.0004\n",
      "Epoch 988 training loss: 0.0007\n",
      "Epoch 989 training loss: 0.0004\n",
      "Epoch 990 training loss: 0.0007\n",
      "Epoch 991 training loss: 0.0004\n",
      "Epoch 990| Loss: 0.0004444979131221771 | Test loss: 0.0005780101055279374\n",
      "OrderedDict([('weights', tensor([0.6997])), ('bias', tensor([0.3008]))])\n",
      "Epoch 992 training loss: 0.0007\n",
      "Epoch 993 training loss: 0.0004\n",
      "Epoch 994 training loss: 0.0007\n",
      "Epoch 995 training loss: 0.0004\n",
      "Epoch 996 training loss: 0.0007\n",
      "Epoch 997 training loss: 0.0004\n",
      "Epoch 998 training loss: 0.0007\n",
      "Epoch 999 training loss: 0.0004\n",
      "Epoch 1000 training loss: 0.0007\n"
     ]
    }
   ],
   "source": [
    "# An epoch is 1 loop through the data... (this is a hyperparameter because we've set it initially)\n",
    "epochs = 1000\n",
    "\n",
    "epoch_count = []\n",
    "loss_values = []\n",
    "test_loss_values = []\n",
    "\n",
    "## Training the model\n",
    "# 0. Loop through the data\n",
    "for epoch in range(epochs):\n",
    "    # Set the model to training mode\n",
    "    model_0.train() # train mode in pytorch sets all parameters that require gradients to require gradients\n",
    "\n",
    "    # 1. Forward pass\n",
    "    y_pred = model_0(X_train)\n",
    "\n",
    "    # 2. Calculate loss\n",
    "    loss = loss_fn(y_pred, y_train)\n",
    "    print(f\"Epoch {epoch + 1} training loss: {loss.item():.4f}\")\n",
    "\n",
    "    # 3. Optimizer zero grad\n",
    "    optimizer.zero_grad()\n",
    "\n",
    "    # 4. Backward pass\n",
    "    loss.backward()\n",
    "\n",
    "    # 5. Step the optimizer\n",
    "    optimizer.step() # by default how the optimizer will accumulate through the loop so... we have to zero them in step 3\n",
    "\n",
    "    # Testing\n",
    "    model_0.eval() # turns off diff settings in the model (like dropout) which is not needed for testing\n",
    "    with torch.inference_mode():\n",
    "        # Forward pass\n",
    "        test_pred = model_0(X_test)\n",
    "\n",
    "        # Calculate loss\n",
    "        test_loss = loss_fn(test_pred, y_test)\n",
    "    \n",
    "    if epoch % 10 == 0:\n",
    "        epoch_count.append(epoch)\n",
    "        loss_values.append(loss)\n",
    "        test_loss_values.append(test_loss)\n",
    "\n",
    "        print(f\"Epoch {epoch}| Loss: {loss} | Test loss: {test_loss}\")\n",
    "    \n",
    "        print(model_0.state_dict())"
   ]
  },
  {
   "cell_type": "code",
   "execution_count": 464,
   "metadata": {},
   "outputs": [
    {
     "data": {
      "text/plain": [
       "([0,\n",
       "  10,\n",
       "  20,\n",
       "  30,\n",
       "  40,\n",
       "  50,\n",
       "  60,\n",
       "  70,\n",
       "  80,\n",
       "  90,\n",
       "  100,\n",
       "  110,\n",
       "  120,\n",
       "  130,\n",
       "  140,\n",
       "  150,\n",
       "  160,\n",
       "  170,\n",
       "  180,\n",
       "  190,\n",
       "  200,\n",
       "  210,\n",
       "  220,\n",
       "  230,\n",
       "  240,\n",
       "  250,\n",
       "  260,\n",
       "  270,\n",
       "  280,\n",
       "  290,\n",
       "  300,\n",
       "  310,\n",
       "  320,\n",
       "  330,\n",
       "  340,\n",
       "  350,\n",
       "  360,\n",
       "  370,\n",
       "  380,\n",
       "  390,\n",
       "  400,\n",
       "  410,\n",
       "  420,\n",
       "  430,\n",
       "  440,\n",
       "  450,\n",
       "  460,\n",
       "  470,\n",
       "  480,\n",
       "  490,\n",
       "  500,\n",
       "  510,\n",
       "  520,\n",
       "  530,\n",
       "  540,\n",
       "  550,\n",
       "  560,\n",
       "  570,\n",
       "  580,\n",
       "  590,\n",
       "  600,\n",
       "  610,\n",
       "  620,\n",
       "  630,\n",
       "  640,\n",
       "  650,\n",
       "  660,\n",
       "  670,\n",
       "  680,\n",
       "  690,\n",
       "  700,\n",
       "  710,\n",
       "  720,\n",
       "  730,\n",
       "  740,\n",
       "  750,\n",
       "  760,\n",
       "  770,\n",
       "  780,\n",
       "  790,\n",
       "  800,\n",
       "  810,\n",
       "  820,\n",
       "  830,\n",
       "  840,\n",
       "  850,\n",
       "  860,\n",
       "  870,\n",
       "  880,\n",
       "  890,\n",
       "  900,\n",
       "  910,\n",
       "  920,\n",
       "  930,\n",
       "  940,\n",
       "  950,\n",
       "  960,\n",
       "  970,\n",
       "  980,\n",
       "  990],\n",
       " array([0.01749063, 0.01714733, 0.01680343, 0.01646037, 0.0161169 ,\n",
       "        0.015773  , 0.01543011, 0.01508646, 0.01474272, 0.01439985,\n",
       "        0.01405603, 0.01371246, 0.0133695 , 0.01302559, 0.0126822 ,\n",
       "        0.01233906, 0.01199516, 0.01165195, 0.01130863, 0.01096472,\n",
       "        0.01062168, 0.01027819, 0.00993429, 0.00959143, 0.00924775,\n",
       "        0.00890404, 0.00856117, 0.00821732, 0.00787378, 0.00753079,\n",
       "        0.00718688, 0.00684352, 0.00650035, 0.00615645, 0.00581326,\n",
       "        0.00546991, 0.00512601, 0.00478274, 0.0044393 , 0.00409621,\n",
       "        0.00375231, 0.00340905, 0.00306577, 0.00272187, 0.00237879,\n",
       "        0.00203534, 0.00169144, 0.00134853, 0.0010049 , 0.00066164,\n",
       "        0.00031773, 0.0004445 , 0.0004445 , 0.0004445 , 0.0004445 ,\n",
       "        0.0004445 , 0.0004445 , 0.0004445 , 0.0004445 , 0.0004445 ,\n",
       "        0.0004445 , 0.0004445 , 0.0004445 , 0.0004445 , 0.0004445 ,\n",
       "        0.0004445 , 0.0004445 , 0.0004445 , 0.0004445 , 0.0004445 ,\n",
       "        0.0004445 , 0.0004445 , 0.0004445 , 0.0004445 , 0.0004445 ,\n",
       "        0.0004445 , 0.0004445 , 0.0004445 , 0.0004445 , 0.0004445 ,\n",
       "        0.0004445 , 0.0004445 , 0.0004445 , 0.0004445 , 0.0004445 ,\n",
       "        0.0004445 , 0.0004445 , 0.0004445 , 0.0004445 , 0.0004445 ,\n",
       "        0.0004445 , 0.0004445 , 0.0004445 , 0.0004445 , 0.0004445 ,\n",
       "        0.0004445 , 0.0004445 , 0.0004445 , 0.0004445 , 0.0004445 ],\n",
       "       dtype=float32),\n",
       " array([0.04084048, 0.04001311, 0.03918575, 0.03842704, 0.03759966,\n",
       "        0.03677229, 0.0360136 , 0.03518623, 0.0344275 , 0.03360014,\n",
       "        0.03277279, 0.03201408, 0.0311867 , 0.03035934, 0.02960061,\n",
       "        0.02877327, 0.02794589, 0.02718719, 0.02635982, 0.02553245,\n",
       "        0.02477374, 0.02394637, 0.02318765, 0.0223603 , 0.02153292,\n",
       "        0.02077423, 0.01994685, 0.01911948, 0.01836077, 0.01753341,\n",
       "        0.01670605, 0.01594732, 0.01511996, 0.0142926 , 0.0135339 ,\n",
       "        0.01270652, 0.01187916, 0.01108615, 0.01032742, 0.00950005,\n",
       "        0.00867269, 0.00791395, 0.0070866 , 0.00625924, 0.00550053,\n",
       "        0.00467317, 0.0038458 , 0.00308709, 0.00225971, 0.0014667 ,\n",
       "        0.00063933, 0.00057801, 0.00057801, 0.00057801, 0.00057801,\n",
       "        0.00057801, 0.00057801, 0.00057801, 0.00057801, 0.00057801,\n",
       "        0.00057801, 0.00057801, 0.00057801, 0.00057801, 0.00057801,\n",
       "        0.00057801, 0.00057801, 0.00057801, 0.00057801, 0.00057801,\n",
       "        0.00057801, 0.00057801, 0.00057801, 0.00057801, 0.00057801,\n",
       "        0.00057801, 0.00057801, 0.00057801, 0.00057801, 0.00057801,\n",
       "        0.00057801, 0.00057801, 0.00057801, 0.00057801, 0.00057801,\n",
       "        0.00057801, 0.00057801, 0.00057801, 0.00057801, 0.00057801,\n",
       "        0.00057801, 0.00057801, 0.00057801, 0.00057801, 0.00057801,\n",
       "        0.00057801, 0.00057801, 0.00057801, 0.00057801, 0.00057801],\n",
       "       dtype=float32))"
      ]
     },
     "execution_count": 464,
     "metadata": {},
     "output_type": "execute_result"
    }
   ],
   "source": [
    "epoch_count, np.array(torch.tensor(loss_values).cpu().numpy()), np.array(torch.tensor(test_loss_values).cpu().numpy())"
   ]
  },
  {
   "cell_type": "code",
   "execution_count": 465,
   "metadata": {},
   "outputs": [
    {
     "data": {
      "text/plain": [
       "Text(0.5, 1.0, 'Training and test loss')"
      ]
     },
     "execution_count": 465,
     "metadata": {},
     "output_type": "execute_result"
    },
    {
     "data": {
      "image/png": "[encoded data removed]",
      "text/plain": [
       "<Figure size 1000x700 with 1 Axes>"
      ]
     },
     "metadata": {},
     "output_type": "display_data"
    }
   ],
   "source": [
    "# Plot the loss curves\n",
    "plt.figure(figsize=(10, 7))\n",
    "\n",
    "plt.plot(epoch_count, np.array(torch.tensor(loss_values).cpu().numpy()), label=\"Training loss\")\n",
    "plt.plot(epoch_count, np.array(torch.tensor(test_loss_values).cpu().numpy()), label=\"Test loss\")\n",
    "plt.title(\"Training and test loss\")"
   ]
  },
  {
   "cell_type": "code",
   "execution_count": 466,
   "metadata": {},
   "outputs": [],
   "source": [
    "with torch.inference_mode():\n",
    "    y_preds_new = model_0(X_test)\n",
    "\n",
    "# plt.plot(epoch_count, loss_values, label='Training loss')\n",
    "# plt.plot(epoch_count, test_loss_values, label='Test loss')"
   ]
  },
  {
   "cell_type": "code",
   "execution_count": 467,
   "metadata": {},
   "outputs": [
    {
     "data": {
      "image/png": "[encoded data removed]",
      "text/plain": [
       "<Figure size 1000x700 with 1 Axes>"
      ]
     },
     "metadata": {},
     "output_type": "display_data"
    }
   ],
   "source": [
    "plot_predictions(predictions=y_preds_new)"
   ]
  },
  {
   "cell_type": "markdown",
   "metadata": {},
   "source": [
    "### Saving a model\n",
    "\n",
    "3 main methods to save & load models\n",
    "\n",
    "1. torch.save() - allows you to save the model in Python's pickle format\n",
    "2. torch.load() - allows you to load a saved PyTorch object\n",
    "3. torch.nn.Module.load_state_dict() - allows you to load a model's saved state dictionary"
   ]
  },
  {
   "cell_type": "code",
   "execution_count": 468,
   "metadata": {},
   "outputs": [
    {
     "name": "stdout",
     "output_type": "stream",
     "text": [
      "Saving model state dict at: models/model_0.pth\n"
     ]
    }
   ],
   "source": [
    "# Saving our PyTorch model\n",
    "from pathlib import Path\n",
    "\n",
    "# 1. Create directory\n",
    "MODEL_PATH = Path(\"models\")\n",
    "MODEL_PATH.mkdir(parents=True, exist_ok=True)\n",
    "\n",
    "# 2. Create model save path\n",
    "MODEL_NAME = \"model_0.pth\"\n",
    "MODEL_SAVE_PATH = MODEL_PATH / MODEL_NAME\n",
    "\n",
    "# 3. Save the model's state_dict\n",
    "print(f\"Saving model state dict at: {MODEL_SAVE_PATH}\")\n",
    "torch.save(obj=model_0.state_dict(), f=MODEL_SAVE_PATH)"
   ]
  },
  {
   "cell_type": "markdown",
   "metadata": {},
   "source": [
    "## Loading a PyTorch model\n",
    "Since we saved our model's state_dict rather than the entire model, we'll create a new instance of our model class and load the state_dict into that"
   ]
  },
  {
   "cell_type": "code",
   "execution_count": 469,
   "metadata": {},
   "outputs": [
    {
     "data": {
      "text/plain": [
       "OrderedDict([('weights', tensor([0.6994])), ('bias', tensor([0.2998]))])"
      ]
     },
     "execution_count": 469,
     "metadata": {},
     "output_type": "execute_result"
    }
   ],
   "source": [
    "# To load in a sate_dict, we have to instantiate a new instance of our model class\n",
    "loaded_model_0 = LinearRegressionModel()\n",
    "\n",
    "# Load the saved state dict into the model\n",
    "loaded_model_0.load_state_dict(torch.load(MODEL_SAVE_PATH))\n",
    "loaded_model_0.state_dict()"
   ]
  },
  {
   "cell_type": "code",
   "execution_count": 470,
   "metadata": {},
   "outputs": [
    {
     "data": {
      "text/plain": [
       "tensor([[0.8593],\n",
       "        [0.8733],\n",
       "        [0.8873],\n",
       "        [0.9013],\n",
       "        [0.9152],\n",
       "        [0.9292],\n",
       "        [0.9432],\n",
       "        [0.9572],\n",
       "        [0.9712],\n",
       "        [0.9852]])"
      ]
     },
     "execution_count": 470,
     "metadata": {},
     "output_type": "execute_result"
    }
   ],
   "source": [
    "# make some predictions with the loaded model\n",
    "loaded_model_0.eval()\n",
    "with torch.inference_mode():\n",
    "    loaded_model_preds = loaded_model_0(X_test)\n",
    "\n",
    "loaded_model_preds"
   ]
  },
  {
   "cell_type": "code",
   "execution_count": 473,
   "metadata": {},
   "outputs": [
    {
     "data": {
      "text/plain": [
       "True"
      ]
     },
     "execution_count": 473,
     "metadata": {},
     "output_type": "execute_result"
    }
   ],
   "source": [
    "# Compare model_0 preds with loaded_model_0 preds\n",
    "# y_preds_new == loaded_model_preds\n",
    "torch.equal(y_preds_new, loaded_model_preds)"
   ]
  },
  {
   "cell_type": "markdown",
   "metadata": {},
   "source": [
    "### Putting everything together"
   ]
  },
  {
   "cell_type": "code",
   "execution_count": 474,
   "metadata": {},
   "outputs": [
    {
     "data": {
      "text/plain": [
       "'2.0.1'"
      ]
     },
     "execution_count": 474,
     "metadata": {},
     "output_type": "execute_result"
    }
   ],
   "source": [
    "import torch\n",
    "from torch import nn\n",
    "import matplotlib.pyplot as plt\n",
    "\n",
    "torch.__version__\n"
   ]
  },
  {
   "cell_type": "code",
   "execution_count": 475,
   "metadata": {},
   "outputs": [
    {
     "name": "stdout",
     "output_type": "stream",
     "text": [
      "Using device: mps\n"
     ]
    }
   ],
   "source": [
    "device = \"mps\" if torch.backends.mps.is_available() else \"cpu\"\n",
    "print(f\"Using device: {device}\")"
   ]
  },
  {
   "cell_type": "markdown",
   "metadata": {},
   "source": [
    "### Data"
   ]
  },
  {
   "cell_type": "code",
   "execution_count": 515,
   "metadata": {},
   "outputs": [
    {
     "data": {
      "text/plain": [
       "(tensor([[0.0000],\n",
       "         [0.0200],\n",
       "         [0.0400],\n",
       "         [0.0600],\n",
       "         [0.0800],\n",
       "         [0.1000],\n",
       "         [0.1200],\n",
       "         [0.1400],\n",
       "         [0.1600],\n",
       "         [0.1800]]),\n",
       " tensor([[0.3000],\n",
       "         [0.3140],\n",
       "         [0.3280],\n",
       "         [0.3420],\n",
       "         [0.3560],\n",
       "         [0.3700],\n",
       "         [0.3840],\n",
       "         [0.3980],\n",
       "         [0.4120],\n",
       "         [0.4260]]))"
      ]
     },
     "execution_count": 515,
     "metadata": {},
     "output_type": "execute_result"
    }
   ],
   "source": [
    "# Create some data using Linear regression formula\n",
    "# y = weight * x + bias\n",
    "weight = 0.7\n",
    "bias = 0.3\n",
    "\n",
    "# Create range values\n",
    "start = 0\n",
    "end = 1\n",
    "step = 0.02\n",
    "\n",
    "# Create X and y\n",
    "X = torch.arange(start, end, step).unsqueeze(dim=1)\n",
    "y = weight * X + bias\n",
    "X[:10], y[:10]"
   ]
  },
  {
   "cell_type": "code",
   "execution_count": 516,
   "metadata": {},
   "outputs": [
    {
     "data": {
      "text/plain": [
       "(40, 10, 40, 10)"
      ]
     },
     "execution_count": 516,
     "metadata": {},
     "output_type": "execute_result"
    }
   ],
   "source": [
    "# Split the data into train and test sets\n",
    "train_split = int(0.8*len(X))\n",
    "X_train, y_train = X[:train_split], y[:train_split]\n",
    "X_test, y_test = X[train_split:], y[train_split:]\n",
    "\n",
    "len(X_train), len(X_test), len(y_train), len(y_test)"
   ]
  },
  {
   "cell_type": "code",
   "execution_count": 517,
   "metadata": {},
   "outputs": [
    {
     "data": {
      "text/plain": [
       "<Figure size 1000x700 with 0 Axes>"
      ]
     },
     "metadata": {},
     "output_type": "display_data"
    },
    {
     "data": {
      "image/png": "[encoded data removed]",
      "text/plain": [
       "<Figure size 1000x700 with 1 Axes>"
      ]
     },
     "metadata": {},
     "output_type": "display_data"
    }
   ],
   "source": [
    "# Plot the data\n",
    "plt.figure(figsize=(10, 7))\n",
    "plot_predictions(X_train, y_train, X_test, y_test) # function we defined earlier"
   ]
  },
  {
   "cell_type": "code",
   "execution_count": 523,
   "metadata": {},
   "outputs": [
    {
     "data": {
      "text/plain": [
       "(LinearRegressionModelV2(\n",
       "   (linear_layer): Linear(in_features=1, out_features=1, bias=True)\n",
       " ),\n",
       " OrderedDict([('linear_layer.weight', tensor([[0.7645]])),\n",
       "              ('linear_layer.bias', tensor([0.8300]))]))"
      ]
     },
     "execution_count": 523,
     "metadata": {},
     "output_type": "execute_result"
    }
   ],
   "source": [
    "# Build a model\n",
    "class LinearRegressionModelV2(nn.Module):\n",
    "    def __init__(self):\n",
    "        super().__init__()\n",
    "        # Use nn.Linear to create a linear regression model\n",
    "        # aka linear transform, dense layer, fully-connected layer\n",
    "        self.linear_layer = nn.Linear(in_features=1,\n",
    "                                      out_features=1)\n",
    "\n",
    "    def forward(self, x: torch.Tensor) -> torch.Tensor:\n",
    "        return self.linear_layer(x)\n",
    "\n",
    "# Set the manual seed\n",
    "torch.manual_seed(42)\n",
    "model_1 = LinearRegressionModelV2()\n",
    "model_1, model_1.state_dict()\n"
   ]
  },
  {
   "cell_type": "code",
   "execution_count": 524,
   "metadata": {},
   "outputs": [
    {
     "data": {
      "text/plain": [
       "device(type='cpu')"
      ]
     },
     "execution_count": 524,
     "metadata": {},
     "output_type": "execute_result"
    }
   ],
   "source": [
    "# Check the model current device\n",
    "next(model_1.parameters()).device"
   ]
  },
  {
   "cell_type": "code",
   "execution_count": 525,
   "metadata": {},
   "outputs": [
    {
     "data": {
      "text/plain": [
       "device(type='mps', index=0)"
      ]
     },
     "execution_count": 525,
     "metadata": {},
     "output_type": "execute_result"
    }
   ],
   "source": [
    "# Set the model to use the target device\n",
    "model_1.to(device)\n",
    "next(model_1.parameters()).device"
   ]
  },
  {
   "cell_type": "code",
   "execution_count": 526,
   "metadata": {},
   "outputs": [],
   "source": [
    "# Setup loss function and optimizer\n",
    "loss_fn = nn.L1Loss() # Same as MAE\n",
    "optimizer = torch.optim.SGD(params=model_1.parameters(),\n",
    "                            lr=0.01)\n"
   ]
  },
  {
   "cell_type": "code",
   "execution_count": 527,
   "metadata": {},
   "outputs": [
    {
     "name": "stdout",
     "output_type": "stream",
     "text": [
      "Epoch 0 | Loss: 0.5551779270172119 | Test loss: 0.5739762783050537\n",
      "Epoch 10 | Loss: 0.4399681091308594 | Test loss: 0.4392664134502411\n",
      "Epoch 20 | Loss: 0.3247582018375397 | Test loss: 0.30455657839775085\n",
      "Epoch 30 | Loss: 0.20954833924770355 | Test loss: 0.16984672844409943\n",
      "Epoch 40 | Loss: 0.09433844685554504 | Test loss: 0.03513689711689949\n",
      "Epoch 50 | Loss: 0.023886388167738914 | Test loss: 0.04784906655550003\n",
      "Epoch 60 | Loss: 0.0199567973613739 | Test loss: 0.04580312594771385\n",
      "Epoch 70 | Loss: 0.016517987474799156 | Test loss: 0.0375305712223053\n",
      "Epoch 80 | Loss: 0.01308917161077261 | Test loss: 0.029944902285933495\n",
      "Epoch 90 | Loss: 0.009653176181018353 | Test loss: 0.02167237363755703\n",
      "Epoch 100 | Loss: 0.0062156799249351025 | Test loss: 0.014086711220443249\n",
      "Epoch 110 | Loss: 0.00278724217787385 | Test loss: 0.005814164876937866\n",
      "Epoch 120 | Loss: 0.0012645028764382005 | Test loss: 0.013801807537674904\n",
      "Epoch 130 | Loss: 0.0012645028764382005 | Test loss: 0.013801807537674904\n",
      "Epoch 140 | Loss: 0.0012645028764382005 | Test loss: 0.013801807537674904\n",
      "Epoch 150 | Loss: 0.0012645028764382005 | Test loss: 0.013801807537674904\n",
      "Epoch 160 | Loss: 0.0012645028764382005 | Test loss: 0.013801807537674904\n",
      "Epoch 170 | Loss: 0.0012645028764382005 | Test loss: 0.013801807537674904\n",
      "Epoch 180 | Loss: 0.0012645028764382005 | Test loss: 0.013801807537674904\n",
      "Epoch 190 | Loss: 0.0012645028764382005 | Test loss: 0.013801807537674904\n"
     ]
    }
   ],
   "source": [
    "# Training loop\n",
    "torch.manual_seed(42)\n",
    "\n",
    "epochs = 200\n",
    "\n",
    "# Put data on the target device\n",
    "X_train = X_train.to(device)\n",
    "y_train = y_train.to(device)\n",
    "X_test = X_test.to(device)\n",
    "y_test = y_test.to(device)\n",
    "\n",
    "for epoch in range(epochs):\n",
    "    model_1.train()\n",
    "\n",
    "    # Forward pass\n",
    "    y_pred = model_1(X_train)\n",
    "\n",
    "    # Calculate loss\n",
    "    loss = loss_fn(y_pred, y_train)\n",
    "\n",
    "    # Zero the gradients\n",
    "    optimizer.zero_grad()\n",
    "\n",
    "    # Backward pass\n",
    "    loss.backward()\n",
    "\n",
    "    # Step the optimizer\n",
    "    optimizer.step()\n",
    "\n",
    "    # Testing\n",
    "    model_1.eval()\n",
    "    with torch.inference_mode():\n",
    "        test_pred = model_1(X_test)\n",
    "        test_loss = loss_fn(test_pred, y_test)\n",
    "\n",
    "    if epoch % 10 == 0:\n",
    "        print(f\"Epoch {epoch} | Loss: {loss} | Test loss: {test_loss}\")"
   ]
  },
  {
   "cell_type": "code",
   "execution_count": 529,
   "metadata": {},
   "outputs": [
    {
     "data": {
      "text/plain": [
       "OrderedDict([('linear_layer.weight', tensor([[0.6968]], device='mps:0')),\n",
       "             ('linear_layer.bias', tensor([0.3025], device='mps:0'))])"
      ]
     },
     "execution_count": 529,
     "metadata": {},
     "output_type": "execute_result"
    }
   ],
   "source": [
    "model_1.state_dict()"
   ]
  },
  {
   "cell_type": "code",
   "execution_count": 530,
   "metadata": {},
   "outputs": [
    {
     "data": {
      "text/plain": [
       "[<matplotlib.lines.Line2D at 0x13daba590>]"
      ]
     },
     "execution_count": 530,
     "metadata": {},
     "output_type": "execute_result"
    },
    {
     "data": {
      "image/png": "[encoded data removed]",
      "text/plain": [
       "<Figure size 1000x700 with 1 Axes>"
      ]
     },
     "metadata": {},
     "output_type": "display_data"
    }
   ],
   "source": [
    "# Plot the loss curves\n",
    "plt.figure(figsize=(10, 7))\n",
    "plt.plot(np.array(torch.Tensor(loss_values).cpu().numpy()), label='Training loss')\n",
    "plt.plot(np.array(torch.Tensor(test_loss_values).cpu().numpy()), label='Test loss')"
   ]
  },
  {
   "cell_type": "code",
   "execution_count": 536,
   "metadata": {},
   "outputs": [],
   "source": [
    "# Turn model_1 into evaluation mode\n",
    "model_1.eval()\n",
    "\n",
    "# Make predictions with model_1 on the test data\n",
    "with torch.inference_mode():\n",
    "    y_preds_new = model_1(X_test)"
   ]
  },
  {
   "cell_type": "code",
   "execution_count": 539,
   "metadata": {},
   "outputs": [
    {
     "data": {
      "image/png": "[encoded data removed]",
      "text/plain": [
       "<Figure size 1000x700 with 1 Axes>"
      ]
     },
     "metadata": {},
     "output_type": "display_data"
    }
   ],
   "source": [
    "# Plot the predictions\n",
    "plot_predictions(predictions=y_preds_new.cpu())"
   ]
  },
  {
   "cell_type": "code",
   "execution_count": 540,
   "metadata": {},
   "outputs": [
    {
     "name": "stdout",
     "output_type": "stream",
     "text": [
      "Saving model state dict at: models/model_1.pth\n"
     ]
    }
   ],
   "source": [
    "# Saving & loading the model_1\n",
    "# 1. Create a directory\n",
    "MODEL_PATH = Path(\"models\")\n",
    "MODEL_PATH.mkdir(parents=True, exist_ok=True)\n",
    "\n",
    "# 2. Create a model save path\n",
    "MODEL_NAME = \"model_1.pth\"\n",
    "MODEL_SAVE_PATH = MODEL_PATH / MODEL_NAME\n",
    "\n",
    "# 3. Save the model's state_dict\n",
    "print(f\"Saving model state dict at: {MODEL_SAVE_PATH}\")\n",
    "torch.save(obj=model_1.state_dict(), f=MODEL_SAVE_PATH)"
   ]
  },
  {
   "cell_type": "code",
   "execution_count": 542,
   "metadata": {},
   "outputs": [
    {
     "data": {
      "text/plain": [
       "tensor([[0.8600],\n",
       "        [0.8739],\n",
       "        [0.8878],\n",
       "        [0.9018],\n",
       "        [0.9157],\n",
       "        [0.9296],\n",
       "        [0.9436],\n",
       "        [0.9575],\n",
       "        [0.9714],\n",
       "        [0.9854]], device='mps:0')"
      ]
     },
     "execution_count": 542,
     "metadata": {},
     "output_type": "execute_result"
    }
   ],
   "source": [
    "# Load the model\n",
    "\n",
    "# Create a new instance\n",
    "loaded_model_1 = LinearRegressionModelV2()\n",
    "\n",
    "# Load the saved state dict into the model\n",
    "loaded_model_1.load_state_dict(torch.load(MODEL_SAVE_PATH))\n",
    "loaded_model_1.state_dict()\n",
    "\n",
    "# Put the model on the target device\n",
    "loaded_model_1.to(device)\n",
    "\n",
    "# Make predictions with the loaded model\n",
    "loaded_model_1.eval()\n",
    "with torch.inference_mode():\n",
    "    loaded_model_preds = loaded_model_1(X_test)\n",
    "\n",
    "loaded_model_preds"
   ]
  },
  {
   "cell_type": "code",
   "execution_count": 543,
   "metadata": {},
   "outputs": [
    {
     "data": {
      "text/plain": [
       "True"
      ]
     },
     "execution_count": 543,
     "metadata": {},
     "output_type": "execute_result"
    }
   ],
   "source": [
    "# Compare model_1 preds with loaded_model_1 preds\n",
    "torch.equal(y_preds_new, loaded_model_preds)"
   ]
  },
  {
   "cell_type": "code",
   "execution_count": null,
   "metadata": {},
   "outputs": [],
   "source": []
  }
 ],
 "metadata": {
  "kernelspec": {
   "display_name": "pytorch_practice",
   "language": "python",
   "name": "python3"
  },
  "language_info": {
   "codemirror_mode": {
    "name": "ipython",
    "version": 3
   },
   "file_extension": ".py",
   "mimetype": "text/x-python",
   "name": "python",
   "nbconvert_exporter": "python",
   "pygments_lexer": "ipython3",
   "version": "3.10.12"
  },
  "orig_nbformat": 4
 },
 "nbformat": 4,
 "nbformat_minor": 2
}
